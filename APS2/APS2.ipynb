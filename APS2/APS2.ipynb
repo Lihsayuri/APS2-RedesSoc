{
 "cells": [
  {
   "cell_type": "markdown",
   "id": "93233e27",
   "metadata": {},
   "source": [
    "<h1> APS 2: Redes Sociais </h1>\n",
    "\n",
    "Professor: Marcelo Hashimoto\n",
    "\n",
    "Alunos: Henrique Martinelli Frezzatti, Lívia Sayuri Makuta e Rodrigo Coelho."
   ]
  },
  {
   "cell_type": "markdown",
   "id": "40c41f6e",
   "metadata": {},
   "source": [
    "<h2> Introdução </h2>\n",
    "\n",
    "Na presente atividade, a partir de um grafo que foi construído na APS anterior, iremos praticar o básico sobre cálculo de métricas locais de vértices e interpretar a rede e essas métricas. Assim, para lembrar, o dataset que foi escolhido pelo grupo: `soc-pages-sport`, foi retirado do tópico *social networks* do site: https://networkrepository.com/. Essa base de dados escolhida utiliza informações coletadas de páginas do *Facebook* do período de novembro de 2017 e busca mostrar as curtidas mútuas entre essas páginas. Além disso, essas páginas são verificadas e estão concentradas na categoria de esportes, embora os dados não incluam apenas essa categoria. \n",
    "\n",
    "Sendo assim, os vértices representam as páginas verificadas do *Facebook* que estão concentradas na categoria esportes, e as arestas são as curtidas mútuas entre elas. Agora, antes de prosseguir para o cálculo das métricas locais, vamos carregar o grafo \n",
    "que estará sob a ação de um algoritmo baseado na ideia de *force-directed graph drawing* que utiliza as arestas como uma força gravitacional que aproxima vértices conectados e afasta os desconectados. \n",
    "\n",
    "E, para melhorar a visualização utilizaremos a ideia de componente, que é um conjunto máximo de vértices que permite que para quaisquer vértices do conjunto exista um caminho as conectando, isto é, podemos andar de qualquer vértice até outro. Assim, será extraída apenas a maior componente, e isso será feito através da função `gt_clean`.\n"
   ]
  },
  {
   "cell_type": "code",
   "execution_count": 1,
   "id": "283f61e4",
   "metadata": {},
   "outputs": [
    {
     "data": {
      "text/html": [
       "\n",
       "    <script src=\"/files/netpixi.min.js\"></script>\n"
      ],
      "text/plain": [
       "<IPython.core.display.HTML object>"
      ]
     },
     "metadata": {},
     "output_type": "display_data"
    },
    {
     "name": "stderr",
     "output_type": "stream",
     "text": [
      "/usr/local/lib/python3.10/site-packages/seaborn/rcmod.py:4: DeprecationWarning: The distutils package is deprecated and slated for removal in Python 3.12. Use setuptools or check PEP 632 for potential alternatives\n",
      "  from distutils.version import LooseVersion\n",
      "<frozen importlib._bootstrap>:914: ImportWarning: VendorImporter.find_spec() not found; falling back to find_module()\n",
      "<frozen importlib._bootstrap>:914: ImportWarning: VendorImporter.find_spec() not found; falling back to find_module()\n",
      "<frozen importlib._bootstrap>:914: ImportWarning: VendorImporter.find_spec() not found; falling back to find_module()\n"
     ]
    }
   ],
   "source": [
    "import netpixi\n",
    "\n",
    "from netpixi.integration.gt import *\n",
    "from regression.integration.gt import *"
   ]
  },
  {
   "cell_type": "markdown",
   "id": "a14c1c14",
   "metadata": {},
   "source": [
    "Observação: para rodar a célula abaixo basta tirar os `#` do início das linhas. Deixamos esta célula comentada porque o notebook fica extremamente lento e de difícil manuseio depois de rodá-la, e isso se deve ao fato do grafo ter muitas vértices e arestas. Caso não queira rodar a célula, a visualização pode ser na imagem: `grafoCompletoSemZoom.png` e também com um pouco de zoom na imagem:  `grafoCompletoZoom.png`.\n",
    "\n",
    "\n"
   ]
  },
  {
   "cell_type": "code",
   "execution_count": 2,
   "id": "9ee1ad5f",
   "metadata": {},
   "outputs": [],
   "source": [
    "g_completo = gt_load('./versao1.net.gz')\n",
    "g_completo = gt_clean(g_completo)\n",
    "m_completo = gt_draw.sfdp_layout(g_completo)\n",
    "gt_move(g_completo, m_completo)\n",
    "gt_save(g_completo, 'force-directed.net.gz')\n",
    "#r = netpixi.render('force-directed.net.gz', infinite=True);"
   ]
  },
  {
   "cell_type": "code",
   "execution_count": 3,
   "id": "e3afb168",
   "metadata": {},
   "outputs": [],
   "source": [
    "# mudar a cor e o tamanho dos vértices\n",
    "#r.vertex_default(color=0xFF0000, size=0.7)\n",
    "\n",
    "# mudar a cor, a espessura e a curvatura das arestas\n",
    "#r.edge_default(color=0x20B2AA, width=0.08, curve1=1, curve2=1)\n",
    "\n",
    "#r.vertex_set_key('nome')"
   ]
  },
  {
   "cell_type": "markdown",
   "id": "0b4ec192",
   "metadata": {},
   "source": [
    "![title](./grafoCompletoSemZoom.png)\n",
    "Imagem do grafo completo com o algoritmo. \n",
    "![title](./grafoCompletoZoom.png)\n",
    "Imagem do grafo com o algoritmo e zoom."
   ]
  },
  {
   "cell_type": "markdown",
   "id": "40620001",
   "metadata": {},
   "source": [
    "As bolinhas (que nesse grafo acima estão bem pequenas) representam as páginas do *Facebook* e as linhas entre elas representam as arestas. Como pode ser visto, alguns grupos foram formados e isso está explícito em algumas regiões onde há maior concentração de arestas e também de vértices. Para entender melhor o que representam esses grupos, vamos utilizar uma versão reduzida do grafo que também foi montada na APS anterior e que conta com cerca de 2000 arestas e 1873 vértices."
   ]
  },
  {
   "cell_type": "code",
   "execution_count": 4,
   "id": "402df019",
   "metadata": {},
   "outputs": [],
   "source": [
    "g_reduzido = gt_load('./grafoMenorGrupos.net.gz')\n",
    "g_reduzido = gt_clean(g_reduzido)\n",
    "m_reduzido = gt_draw.sfdp_layout(g_reduzido)\n",
    "gt_move(g_reduzido, m_reduzido)\n",
    "gt_save(g_reduzido, 'force-directed-grafoMenor.net.gz')\n",
    "#r = netpixi.render('force-directed-grafoMenor.net.gz');\n"
   ]
  },
  {
   "cell_type": "code",
   "execution_count": 5,
   "id": "2b517171",
   "metadata": {},
   "outputs": [
    {
     "ename": "NameError",
     "evalue": "name 'r' is not defined",
     "output_type": "error",
     "traceback": [
      "\u001b[0;31m---------------------------------------------------------------------------\u001b[0m",
      "\u001b[0;31mNameError\u001b[0m                                 Traceback (most recent call last)",
      "Cell \u001b[0;32mIn [5], line 2\u001b[0m\n\u001b[1;32m      1\u001b[0m \u001b[38;5;66;03m# mudar a cor e o tamanho dos vértices\u001b[39;00m\n\u001b[0;32m----> 2\u001b[0m \u001b[43mr\u001b[49m\u001b[38;5;241m.\u001b[39mvertex_default(color\u001b[38;5;241m=\u001b[39m\u001b[38;5;241m0xFF0000\u001b[39m, size\u001b[38;5;241m=\u001b[39m\u001b[38;5;241m1\u001b[39m)\n\u001b[1;32m      4\u001b[0m \u001b[38;5;66;03m# mudar a cor, a espessura e a curvatura das arestas\u001b[39;00m\n\u001b[1;32m      5\u001b[0m r\u001b[38;5;241m.\u001b[39medge_default(color\u001b[38;5;241m=\u001b[39m\u001b[38;5;241m0x20B2AA\u001b[39m, width\u001b[38;5;241m=\u001b[39m\u001b[38;5;241m0.1\u001b[39m, curve1\u001b[38;5;241m=\u001b[39m\u001b[38;5;241m1\u001b[39m, curve2\u001b[38;5;241m=\u001b[39m\u001b[38;5;241m1\u001b[39m)\n",
      "\u001b[0;31mNameError\u001b[0m: name 'r' is not defined"
     ]
    }
   ],
   "source": [
    "# mudar a cor e o tamanho dos vértices\n",
    "r.vertex_default(color=0xFF0000, size=1)\n",
    "\n",
    "# mudar a cor, a espessura e a curvatura das arestas\n",
    "r.edge_default(color=0x20B2AA, width=0.1, curve1=1, curve2=1)\n",
    "\n",
    "r.vertex_set_key('nome')"
   ]
  },
  {
   "cell_type": "markdown",
   "id": "ccd0fc9c",
   "metadata": {},
   "source": [
    "Agora sim podemos analisar melhor o que esses grupos representam e concluir que são páginas de esporte de categorias ou nichos similares que trocam curtidas entre si. Um exemplo é um grupo que é formado pelas páginas: *Minnesota Vikings*, *New England Patriots*, *Los Angeles Chargers*, *Brian Robison*, *Kyle Rudolph*, entre outros. Todos esses são times e jogadores da NFL que é a liga de futebol americano. \n",
    "\n",
    "Daqui para frente no decorrer da atividade, utilizaremos apenas o grafo reduzido para poder manuseá-lo e ter uma visualização melhor, entretanto para visualizar o cálculo das métricas  nas tabelas iremos utilizar a base de dados completa para formular um conceito para a métrica de maneira mais geral, e não apenas através desse recorte que fizemos para ajudar na visualização. "
   ]
  },
  {
   "cell_type": "markdown",
   "id": "0b026aef",
   "metadata": {},
   "source": [
    "<h2> Cálculo das métricas</h2>\n",
    "\n",
    "<h3> [a] Cálculo da centralidade degree </h3>\n",
    "\n",
    "Como visto na APS anterior, cada vértice (ou nó) possui arestas que entram (*in-degree*) e arestas que saem (*out-degree*), e a soma do número de arestas que entram com o número das arestas que saem de um nó é chamado de *degree*. No caso de um grafo não-dirigido, o sentido dessa conexão não importa e podemos simplesmente chamar de *degree*, como é o caso que está sendo trabalhado, e isso porque as conexões entre as páginas do Facebook representam curtidas mútuas entre elas. \n",
    "\n",
    "E é por meio do *degree* que podemos calcular a métrica de centralidade *degree* que nada mais é do que o *degree*  de um vértice dividido pelo máximo *degree* possível. No nosso caso podemos pensar no seguinte exemplo: será que o *Minnesota Vikings* tem muitas curtidas mesmo? Qual a relação entre o número de suas curtidas mútuas com à página que tem mais curtidas mútuas? Isso pode nos ajudar a entender a importância da página no contexto que está inserida.\n",
    "\n"
   ]
  },
  {
   "cell_type": "markdown",
   "id": "19532365",
   "metadata": {},
   "source": [
    "Primeiro vamos carregar os grafos que serão utilizados:"
   ]
  },
  {
   "cell_type": "code",
   "execution_count": 51,
   "id": "2ebc3461",
   "metadata": {},
   "outputs": [],
   "source": [
    "g_reduzido = gt_load('force-directed-grafoMenor.net.gz')\n",
    "g_completo = gt_load('force-directed.net.gz')"
   ]
  },
  {
   "cell_type": "markdown",
   "id": "a8dcc7b8",
   "metadata": {},
   "source": [
    "Agora vamos calcular a centralidade *degree*: "
   ]
  },
  {
   "cell_type": "code",
   "execution_count": 52,
   "id": "801db933",
   "metadata": {},
   "outputs": [],
   "source": [
    "dc_reduzido = gt_total_degree(g_reduzido)\n",
    "dc_completo = gt_total_degree(g_completo)\n",
    "\n",
    "#for value in dc:\n",
    "#    print(value) [debug]"
   ]
  },
  {
   "cell_type": "markdown",
   "id": "8c24e3f4",
   "metadata": {},
   "source": [
    "Nos primeiros tutoriais da biblioteca graph-tool, vimos que era possível adicionar propriedade aos vértices de um grafo através do método `add_vp`. E além de adicionar uma propriedade, também é possível adicionar um segundo parâmetro. Logo se passarmos a centralidade como segundo parâmetro, ela será uma propriedade dos vértices do grafo.\n"
   ]
  },
  {
   "cell_type": "code",
   "execution_count": 55,
   "id": "553b6576",
   "metadata": {},
   "outputs": [],
   "source": [
    "g_reduzido.add_vp('degree', dc_reduzido)\n",
    "\n",
    "g_completo.add_vp('degree', dc_completo)\n"
   ]
  },
  {
   "cell_type": "markdown",
   "id": "6c498fc6",
   "metadata": {},
   "source": [
    "Abaixo podemos ver as propriedades dos vértices formatadas como um dataframe do pandas de maneira decrescente (veremos a tabela do grafo completo):"
   ]
  },
  {
   "cell_type": "code",
   "execution_count": 60,
   "id": "08eb555e",
   "metadata": {},
   "outputs": [
    {
     "data": {
      "text/html": [
       "<div>\n",
       "<style scoped>\n",
       "    .dataframe tbody tr th:only-of-type {\n",
       "        vertical-align: middle;\n",
       "    }\n",
       "\n",
       "    .dataframe tbody tr th {\n",
       "        vertical-align: top;\n",
       "    }\n",
       "\n",
       "    .dataframe thead th {\n",
       "        text-align: right;\n",
       "    }\n",
       "</style>\n",
       "<table border=\"1\" class=\"dataframe\">\n",
       "  <thead>\n",
       "    <tr style=\"text-align: right;\">\n",
       "      <th></th>\n",
       "      <th>nome</th>\n",
       "      <th>degree</th>\n",
       "    </tr>\n",
       "    <tr>\n",
       "      <th>id</th>\n",
       "      <th></th>\n",
       "      <th></th>\n",
       "    </tr>\n",
       "  </thead>\n",
       "  <tbody>\n",
       "    <tr>\n",
       "      <th>6221</th>\n",
       "      <td>NBA</td>\n",
       "      <td>0.033759</td>\n",
       "    </tr>\n",
       "    <tr>\n",
       "      <th>5328</th>\n",
       "      <td>UFC</td>\n",
       "      <td>0.028998</td>\n",
       "    </tr>\n",
       "    <tr>\n",
       "      <th>3108</th>\n",
       "      <td>Cristiano Ronaldo</td>\n",
       "      <td>0.022217</td>\n",
       "    </tr>\n",
       "    <tr>\n",
       "      <th>11976</th>\n",
       "      <td>NFL</td>\n",
       "      <td>0.021063</td>\n",
       "    </tr>\n",
       "    <tr>\n",
       "      <th>11134</th>\n",
       "      <td>LeBron James</td>\n",
       "      <td>0.019332</td>\n",
       "    </tr>\n",
       "    <tr>\n",
       "      <th>3334</th>\n",
       "      <td>UEFA Champions League</td>\n",
       "      <td>0.018755</td>\n",
       "    </tr>\n",
       "    <tr>\n",
       "      <th>11881</th>\n",
       "      <td>John Doomsday Howard MMA</td>\n",
       "      <td>0.018539</td>\n",
       "    </tr>\n",
       "    <tr>\n",
       "      <th>8137</th>\n",
       "      <td>Leo Messi</td>\n",
       "      <td>0.016879</td>\n",
       "    </tr>\n",
       "    <tr>\n",
       "      <th>13571</th>\n",
       "      <td>Martyn Ashton</td>\n",
       "      <td>0.016230</td>\n",
       "    </tr>\n",
       "    <tr>\n",
       "      <th>12449</th>\n",
       "      <td>Team USA</td>\n",
       "      <td>0.015797</td>\n",
       "    </tr>\n",
       "  </tbody>\n",
       "</table>\n",
       "</div>"
      ],
      "text/plain": [
       "                           nome    degree\n",
       "id                                       \n",
       "6221                        NBA  0.033759\n",
       "5328                        UFC  0.028998\n",
       "3108          Cristiano Ronaldo  0.022217\n",
       "11976                       NFL  0.021063\n",
       "11134              LeBron James  0.019332\n",
       "3334      UEFA Champions League  0.018755\n",
       "11881  John Doomsday Howard MMA  0.018539\n",
       "8137                  Leo Messi  0.016879\n",
       "13571             Martyn Ashton  0.016230\n",
       "12449                  Team USA  0.015797"
      ]
     },
     "execution_count": 60,
     "metadata": {},
     "output_type": "execute_result"
    }
   ],
   "source": [
    "gt_data(g_completo).sort_values(\"degree\", ascending = False).head(10)"
   ]
  },
  {
   "cell_type": "markdown",
   "id": "9fa1de8f",
   "metadata": {},
   "source": [
    "Abaixo também podemos ver as propriedades dos vértices formatadas como um dataframe do pandas de maneira crescente (veremos a tabela do grafo completo):"
   ]
  },
  {
   "cell_type": "code",
   "execution_count": 57,
   "id": "3ba41470",
   "metadata": {},
   "outputs": [
    {
     "data": {
      "text/html": [
       "<div>\n",
       "<style scoped>\n",
       "    .dataframe tbody tr th:only-of-type {\n",
       "        vertical-align: middle;\n",
       "    }\n",
       "\n",
       "    .dataframe tbody tr th {\n",
       "        vertical-align: top;\n",
       "    }\n",
       "\n",
       "    .dataframe thead th {\n",
       "        text-align: right;\n",
       "    }\n",
       "</style>\n",
       "<table border=\"1\" class=\"dataframe\">\n",
       "  <thead>\n",
       "    <tr style=\"text-align: right;\">\n",
       "      <th></th>\n",
       "      <th>nome</th>\n",
       "      <th>degree</th>\n",
       "    </tr>\n",
       "    <tr>\n",
       "      <th>id</th>\n",
       "      <th></th>\n",
       "      <th></th>\n",
       "    </tr>\n",
       "  </thead>\n",
       "  <tbody>\n",
       "    <tr>\n",
       "      <th>538</th>\n",
       "      <td>Beşiktaş English</td>\n",
       "      <td>0.000072</td>\n",
       "    </tr>\n",
       "    <tr>\n",
       "      <th>9556</th>\n",
       "      <td>한화이글스</td>\n",
       "      <td>0.000072</td>\n",
       "    </tr>\n",
       "    <tr>\n",
       "      <th>6128</th>\n",
       "      <td>Brandão</td>\n",
       "      <td>0.000072</td>\n",
       "    </tr>\n",
       "    <tr>\n",
       "      <th>12193</th>\n",
       "      <td>ekaterina gamova</td>\n",
       "      <td>0.000072</td>\n",
       "    </tr>\n",
       "    <tr>\n",
       "      <th>11643</th>\n",
       "      <td>\"Juan Manuel \"\"Cochito\"\" Lopez\"</td>\n",
       "      <td>0.000072</td>\n",
       "    </tr>\n",
       "    <tr>\n",
       "      <th>5014</th>\n",
       "      <td>Alessio Romagnoli</td>\n",
       "      <td>0.000072</td>\n",
       "    </tr>\n",
       "    <tr>\n",
       "      <th>7226</th>\n",
       "      <td>GIANTS Netball</td>\n",
       "      <td>0.000072</td>\n",
       "    </tr>\n",
       "    <tr>\n",
       "      <th>947</th>\n",
       "      <td>Emmanuel Bonaventure Dennis</td>\n",
       "      <td>0.000072</td>\n",
       "    </tr>\n",
       "    <tr>\n",
       "      <th>6873</th>\n",
       "      <td>Velothon</td>\n",
       "      <td>0.000072</td>\n",
       "    </tr>\n",
       "    <tr>\n",
       "      <th>7826</th>\n",
       "      <td>AUDL American Ultimate Disc League</td>\n",
       "      <td>0.000072</td>\n",
       "    </tr>\n",
       "  </tbody>\n",
       "</table>\n",
       "</div>"
      ],
      "text/plain": [
       "                                     nome    degree\n",
       "id                                                 \n",
       "538                      Beşiktaş English  0.000072\n",
       "9556                                한화이글스  0.000072\n",
       "6128                              Brandão  0.000072\n",
       "12193                    ekaterina gamova  0.000072\n",
       "11643     \"Juan Manuel \"\"Cochito\"\" Lopez\"  0.000072\n",
       "5014                    Alessio Romagnoli  0.000072\n",
       "7226                       GIANTS Netball  0.000072\n",
       "947           Emmanuel Bonaventure Dennis  0.000072\n",
       "6873                             Velothon  0.000072\n",
       "7826   AUDL American Ultimate Disc League  0.000072"
      ]
     },
     "execution_count": 57,
     "metadata": {},
     "output_type": "execute_result"
    }
   ],
   "source": [
    "gt_data(g_completo).sort_values(\"degree\", ascending = True).head(10)"
   ]
  },
  {
   "cell_type": "markdown",
   "id": "3728cf31",
   "metadata": {},
   "source": [
    "Por fim, podemos ver essa propriedade visualmente no grafo e através do método `vertex_scale` é possível utilizar o `degree` como tamanho."
   ]
  },
  {
   "cell_type": "code",
   "execution_count": null,
   "id": "177280f1",
   "metadata": {},
   "outputs": [],
   "source": [
    "#m = gt_draw.sfdp_layout(g_reduzido)\n",
    "#gt_move(g_reduzido, m)\n",
    "#gt_save(g_reduzido, 'centralidadeDegree.net.gz')\n",
    "#r = netpixi.render('centralidadeDegree.net.gz')"
   ]
  },
  {
   "cell_type": "code",
   "execution_count": null,
   "id": "55d82a97",
   "metadata": {},
   "outputs": [],
   "source": [
    "r.vertex_set_key('nome')\n",
    "r.vertex_scale('degree', 1, 20)"
   ]
  },
  {
   "cell_type": "markdown",
   "id": "a1570e0b",
   "metadata": {},
   "source": [
    "A centralidade *degree* no presente contexto poderia ser definida como a popularidade da página do *Facebook* que pode ser tanto uma pessoa quanto uma organização no nicho em que está inserida. Além disso, podemos analisar também que dado o fato das arestas serem curtidas mútuas, elementos com grande centralidade *degree* são membros ativos na comunidade que estão inseridos - no sentido de curtir outras páginas. Por exemplo, Antoine Walker é um ex-jogador de basquete e podemos ver que suas conexões estão mais relacionadas a outros jogadores e também páginas de time de basquete, assim, por essa métrica podemos dizer que ele seria uma pessoa popular na comunidade de basquete e que provavelmente também é membro ativo dessa comunidade na rede social curtindo outras páginas com interesses semelhantes ou até de outros nichos.\n",
    "\n",
    "Aparentemente os maiores vértices estão em posições interessantes. Isso porque a maior parte deles parece ser a posição central do *cluster* (agrupamento) em que estão inseridos e também na rede central - dependendo do quão maior é sua centralidade *degree*, como se fossem regiões de influência naquele nicho e/ou até mesmo na rede de esportes.\n"
   ]
  },
  {
   "cell_type": "markdown",
   "id": "8128b59f",
   "metadata": {},
   "source": [
    "<h3> [b] Cálculo da centralidade betweeness </h3>\n",
    "\n",
    "A centralidade betweeness, por sua vez, diz respeito a quantas vezes um vértice acaba sendo intermediário entre dois outros. Parece confuso, mas basta pensar que seria uma sequência de vértices e passos para sair de A e ir até B andando pelas arestas. Entretanto, é importante lembrar que não é qualquer deslocamento, nesse deslocamente não se pode passar pela mesma aresta mais de um vez e nem passar pelo mesmo vértice mais de uma vez. Além disso, esse deslocamento precisa ter o menor comprimento - isto é, o número de arestas pelas quais um caminho passa deve ser o menor possível.\n",
    "\n",
    "Basta pensar que para uma página de futebol curtir uma de esqui talvez tenham algumas outras páginas intermediárias que acabaram sendo uma \"ponte\" para que essa curtida mútua acontecesse. E é isso que o *betweeness* representa, adicionando as condições citadas anteriormente.\n",
    "\n"
   ]
  },
  {
   "cell_type": "markdown",
   "id": "a9a175a3",
   "metadata": {},
   "source": [
    "Primeiro vamos carregar os grafos que serão utilizados:"
   ]
  },
  {
   "cell_type": "code",
   "execution_count": 66,
   "id": "bf60e5b7",
   "metadata": {},
   "outputs": [],
   "source": [
    "g_reduzido = gt_load('force-directed-grafoMenor.net.gz')\n",
    "\n",
    "g_completo = gt_load('force-directed.net.gz')"
   ]
  },
  {
   "cell_type": "markdown",
   "id": "3fafe070",
   "metadata": {},
   "source": [
    "Agora vamos calcular a centralidade *betweenness*:"
   ]
  },
  {
   "cell_type": "code",
   "execution_count": 67,
   "id": "ebf2aa24",
   "metadata": {},
   "outputs": [],
   "source": [
    "from graph_tool import centrality\n",
    "\n",
    "bc_reduzido, _ = centrality.betweenness(g_reduzido)\n",
    "\n",
    "bc_completo, _ = centrality.betweenness(g_completo)\n",
    "#for value in bc:\n",
    "#    print(value) [debug]"
   ]
  },
  {
   "cell_type": "markdown",
   "id": "44793c20",
   "metadata": {},
   "source": [
    "Depois podemos adicionar essa propriedade aos vértices do grafo através do método `add_vp`"
   ]
  },
  {
   "cell_type": "code",
   "execution_count": 68,
   "id": "4bc34286",
   "metadata": {},
   "outputs": [],
   "source": [
    "g_reduzido.add_vp('betweenness', bc_reduzido)\n",
    "\n",
    "g_completo.add_vp('betweenness', bc_completo)\n"
   ]
  },
  {
   "cell_type": "markdown",
   "id": "17e4a0c1",
   "metadata": {},
   "source": [
    "Abaixo podemos ver as propriedades dos vértices formatadas como um dataframe do pandas de maneira decrescente (veremos a tabela do grafo completo):"
   ]
  },
  {
   "cell_type": "code",
   "execution_count": 69,
   "id": "95385386",
   "metadata": {},
   "outputs": [
    {
     "data": {
      "text/html": [
       "<div>\n",
       "<style scoped>\n",
       "    .dataframe tbody tr th:only-of-type {\n",
       "        vertical-align: middle;\n",
       "    }\n",
       "\n",
       "    .dataframe tbody tr th {\n",
       "        vertical-align: top;\n",
       "    }\n",
       "\n",
       "    .dataframe thead th {\n",
       "        text-align: right;\n",
       "    }\n",
       "</style>\n",
       "<table border=\"1\" class=\"dataframe\">\n",
       "  <thead>\n",
       "    <tr style=\"text-align: right;\">\n",
       "      <th></th>\n",
       "      <th>nome</th>\n",
       "      <th>betweenness</th>\n",
       "    </tr>\n",
       "    <tr>\n",
       "      <th>id</th>\n",
       "      <th></th>\n",
       "      <th></th>\n",
       "    </tr>\n",
       "  </thead>\n",
       "  <tbody>\n",
       "    <tr>\n",
       "      <th>6221</th>\n",
       "      <td>NBA</td>\n",
       "      <td>0.056742</td>\n",
       "    </tr>\n",
       "    <tr>\n",
       "      <th>5328</th>\n",
       "      <td>UFC</td>\n",
       "      <td>0.038914</td>\n",
       "    </tr>\n",
       "    <tr>\n",
       "      <th>3108</th>\n",
       "      <td>Cristiano Ronaldo</td>\n",
       "      <td>0.033980</td>\n",
       "    </tr>\n",
       "    <tr>\n",
       "      <th>11976</th>\n",
       "      <td>NFL</td>\n",
       "      <td>0.029374</td>\n",
       "    </tr>\n",
       "    <tr>\n",
       "      <th>1615</th>\n",
       "      <td>Paralympic Games</td>\n",
       "      <td>0.025201</td>\n",
       "    </tr>\n",
       "    <tr>\n",
       "      <th>4938</th>\n",
       "      <td>Monster Energy</td>\n",
       "      <td>0.022855</td>\n",
       "    </tr>\n",
       "    <tr>\n",
       "      <th>12449</th>\n",
       "      <td>Team USA</td>\n",
       "      <td>0.022840</td>\n",
       "    </tr>\n",
       "    <tr>\n",
       "      <th>3334</th>\n",
       "      <td>UEFA Champions League</td>\n",
       "      <td>0.021986</td>\n",
       "    </tr>\n",
       "    <tr>\n",
       "      <th>6929</th>\n",
       "      <td>Vernon Davis</td>\n",
       "      <td>0.021089</td>\n",
       "    </tr>\n",
       "    <tr>\n",
       "      <th>11134</th>\n",
       "      <td>LeBron James</td>\n",
       "      <td>0.020507</td>\n",
       "    </tr>\n",
       "  </tbody>\n",
       "</table>\n",
       "</div>"
      ],
      "text/plain": [
       "                        nome  betweenness\n",
       "id                                       \n",
       "6221                     NBA     0.056742\n",
       "5328                     UFC     0.038914\n",
       "3108       Cristiano Ronaldo     0.033980\n",
       "11976                    NFL     0.029374\n",
       "1615        Paralympic Games     0.025201\n",
       "4938          Monster Energy     0.022855\n",
       "12449               Team USA     0.022840\n",
       "3334   UEFA Champions League     0.021986\n",
       "6929            Vernon Davis     0.021089\n",
       "11134           LeBron James     0.020507"
      ]
     },
     "execution_count": 69,
     "metadata": {},
     "output_type": "execute_result"
    }
   ],
   "source": [
    "gt_data(g_completo).sort_values(\"betweenness\", ascending = False).head(10)"
   ]
  },
  {
   "cell_type": "markdown",
   "id": "31ab5094",
   "metadata": {},
   "source": [
    "Abaixo também podemos ver as propriedades dos vértices formatadas como um dataframe do pandas de maneira crescente (veremos a tabela do grafo completo):"
   ]
  },
  {
   "cell_type": "code",
   "execution_count": 70,
   "id": "db565a13",
   "metadata": {},
   "outputs": [
    {
     "data": {
      "text/html": [
       "<div>\n",
       "<style scoped>\n",
       "    .dataframe tbody tr th:only-of-type {\n",
       "        vertical-align: middle;\n",
       "    }\n",
       "\n",
       "    .dataframe tbody tr th {\n",
       "        vertical-align: top;\n",
       "    }\n",
       "\n",
       "    .dataframe thead th {\n",
       "        text-align: right;\n",
       "    }\n",
       "</style>\n",
       "<table border=\"1\" class=\"dataframe\">\n",
       "  <thead>\n",
       "    <tr style=\"text-align: right;\">\n",
       "      <th></th>\n",
       "      <th>nome</th>\n",
       "      <th>betweenness</th>\n",
       "    </tr>\n",
       "    <tr>\n",
       "      <th>id</th>\n",
       "      <th></th>\n",
       "      <th></th>\n",
       "    </tr>\n",
       "  </thead>\n",
       "  <tbody>\n",
       "    <tr>\n",
       "      <th>13792</th>\n",
       "      <td>Petrix Barbosa</td>\n",
       "      <td>0.0</td>\n",
       "    </tr>\n",
       "    <tr>\n",
       "      <th>12684</th>\n",
       "      <td>Martin Schmitt</td>\n",
       "      <td>0.0</td>\n",
       "    </tr>\n",
       "    <tr>\n",
       "      <th>848</th>\n",
       "      <td>Jacketsonline.com</td>\n",
       "      <td>0.0</td>\n",
       "    </tr>\n",
       "    <tr>\n",
       "      <th>2183</th>\n",
       "      <td>Tai Aguero</td>\n",
       "      <td>0.0</td>\n",
       "    </tr>\n",
       "    <tr>\n",
       "      <th>5817</th>\n",
       "      <td>Michael Annett</td>\n",
       "      <td>0.0</td>\n",
       "    </tr>\n",
       "    <tr>\n",
       "      <th>1894</th>\n",
       "      <td>Willi Wildpark</td>\n",
       "      <td>0.0</td>\n",
       "    </tr>\n",
       "    <tr>\n",
       "      <th>12302</th>\n",
       "      <td>Avanti Palmeiras</td>\n",
       "      <td>0.0</td>\n",
       "    </tr>\n",
       "    <tr>\n",
       "      <th>3560</th>\n",
       "      <td>KamiKat</td>\n",
       "      <td>0.0</td>\n",
       "    </tr>\n",
       "    <tr>\n",
       "      <th>9856</th>\n",
       "      <td>Leones del Caracas</td>\n",
       "      <td>0.0</td>\n",
       "    </tr>\n",
       "    <tr>\n",
       "      <th>8407</th>\n",
       "      <td>Golf Channel Amateur Tour</td>\n",
       "      <td>0.0</td>\n",
       "    </tr>\n",
       "  </tbody>\n",
       "</table>\n",
       "</div>"
      ],
      "text/plain": [
       "                            nome  betweenness\n",
       "id                                           \n",
       "13792             Petrix Barbosa          0.0\n",
       "12684             Martin Schmitt          0.0\n",
       "848            Jacketsonline.com          0.0\n",
       "2183                  Tai Aguero          0.0\n",
       "5817              Michael Annett          0.0\n",
       "1894              Willi Wildpark          0.0\n",
       "12302           Avanti Palmeiras          0.0\n",
       "3560                     KamiKat          0.0\n",
       "9856          Leones del Caracas          0.0\n",
       "8407   Golf Channel Amateur Tour          0.0"
      ]
     },
     "execution_count": 70,
     "metadata": {},
     "output_type": "execute_result"
    }
   ],
   "source": [
    "gt_data(g_completo).sort_values(\"betweenness\", ascending = True).head(10)"
   ]
  },
  {
   "cell_type": "code",
   "execution_count": 14,
   "id": "f370229e",
   "metadata": {},
   "outputs": [],
   "source": [
    "#m = gt_draw.sfdp_layout(g_reduzido)\n",
    "#gt_move(g_reduzido, m)\n",
    "#gt_save(g_reduzido, 'centralidadeBetweenness.net.gz')\n",
    "#r = netpixi.render('centralidadeBetweenness.net.gz')"
   ]
  },
  {
   "cell_type": "code",
   "execution_count": 13,
   "id": "c3b13c40",
   "metadata": {},
   "outputs": [
    {
     "data": {
      "text/html": [
       "\n",
       "        <div id=\"dP2dS7JVg9xwQV2ftqWFos\"></div>\n",
       "        <script>netpixi.call('dP2dS7JVg9xwQV2ftqWFos', 'ZLEPHZjDUZiibeTbtu9qUD', 'setGraph', 'eyJ0eXBlIjogInZlcnRleCIsICJwcm9wcyI6IHsic3JjIjogIm5vbWUiLCAiZHN0IjogIl9rZXkifX0K');</script>\n",
       "    "
      ],
      "text/plain": [
       "<IPython.core.display.HTML object>"
      ]
     },
     "metadata": {},
     "output_type": "display_data"
    },
    {
     "data": {
      "text/html": [
       "\n",
       "        <div id=\"iJ448Aeenc7vxkKJHY6Buq\"></div>\n",
       "        <script>netpixi.call('iJ448Aeenc7vxkKJHY6Buq', 'ZLEPHZjDUZiibeTbtu9qUD', 'normalizeGraph', 'eyJ0eXBlIjogInZlcnRleCIsICJwcm9wcyI6IHsic3JjIjogImJldHdlZW5uZXNzIiwgIm1pbiI6IDEsICJtYXgiOiAyMH19Cg==');</script>\n",
       "    "
      ],
      "text/plain": [
       "<IPython.core.display.HTML object>"
      ]
     },
     "metadata": {},
     "output_type": "display_data"
    }
   ],
   "source": [
    "r.vertex_set_key('nome')\n",
    "r.vertex_scale('betweenness', 1, 20)"
   ]
  },
  {
   "cell_type": "markdown",
   "id": "712a604a",
   "metadata": {},
   "source": [
    "Em relação ao significado da centralidade *betweenness*, tem-se que essa é uma página em comum que conecta diferentes comunidades, e isso pode acontecer devido a informações compartilhadas, como lugares em comum, estar no mesmo grupo do *Facebook*, ser marcado em uma publicação naquela página, entre outros. E essa informação pode ser utilizada na ferramenta  \"Páginas que você talvez curta\" ou \"Páginas que outras pessoas também curtiram\". \n",
    "\n",
    "Por exemplo, olhando o grafo anterior, Charlotte Hornets é um time de basquete americano que embora não fosse um dos mais populares e nem ativos na iteração por curtidas (ou seja, não possui uma centralidade *degree* alta), acabou por ter um *betweenness* alto, e isso porque essa página compartilha curtidas mútuas com duas páginas muito populares: NASCAR e Antoine Walker, assim, essa página acaba por conectar essas duas páginas de grupos distintos em um caminho mais curto. Ela não será necessariamente recomendada para o usuário curtir, mas ela é uma intermediária que conecta diferentes comunidades e que possivelmente pode ser usada por algoritmos do *Facebook* para traçar caminhos e sugerir que alguém que curtiu NASCAR possa querer curtir Antoine Walker. Inclusive essa relação entre NASCAR e Antoine Walker com Hornets pode ter acontecido pelo fato de que um dos circuitos mais importantes de NASCAR seja na cidade de Charlotte, que também é a cidade do time de basquete Charlotte Hornets.\n",
    "\n",
    "Logo, quanto mais uma página conecta comunidades de esporte no *Facebook* maior é seu *betweenness* e quanto mais parte de um grupo ela é, sem se conectar com outros, menor é seu *betweenness*. \n",
    "\n",
    "Agora em relação à posição que esses vértices maiores estão, podemos dizer que são posições extremamente interessantes. Isso porque, reiterando, essas páginas são as responsáveis por conectar páginas de grupos e interesses distintos. Como citado no exemplo anterior, temos Charlotte Hornets conectando NASCAR (associação automobilística) com Antoine Walker (ex-jogador de basquete).\n",
    "\n"
   ]
  },
  {
   "cell_type": "markdown",
   "id": "b59b7d07",
   "metadata": {},
   "source": [
    "<h3> [c] Cálculo da centralidade closeness </h3>\n",
    "\n",
    "O closeness por sua vez é o inverso da soma de distâncias de um vértice aos outros, ou seja, tenta medir o quão próximo um vértice está do outro levando em consideração o menor comprimento possível de um caminho de um ponto até outro. Assim, quanto mais central um nó é, mais próximo será de todos os outros nós. No contexto do *Facebook*, podemos pensar que se o *closeness* de uma página for alto, é porque ela é bem próxima de muitas outras, ou seja o número de conexões ou passos para sair dela e ir para outra é baixo - indicando proximidade."
   ]
  },
  {
   "cell_type": "markdown",
   "id": "43da240d",
   "metadata": {},
   "source": [
    "Primeiro vamos carregar os grafos que serão utilizados:"
   ]
  },
  {
   "cell_type": "code",
   "execution_count": 99,
   "id": "883efb6e",
   "metadata": {},
   "outputs": [],
   "source": [
    "g_reduzido = gt_load('force-directed-grafoMenor.net.gz')\n",
    "\n",
    "g_completo = gt_load('force-directed.net.gz')"
   ]
  },
  {
   "cell_type": "markdown",
   "id": "12878704",
   "metadata": {},
   "source": [
    "Agora vamos calcular a centralidade *closeness*:"
   ]
  },
  {
   "cell_type": "code",
   "execution_count": 100,
   "id": "77a5b480",
   "metadata": {},
   "outputs": [],
   "source": [
    "from graph_tool import centrality\n",
    "\n",
    "cc_reduzido = centrality.closeness(g_reduzido)\n",
    "\n",
    "cc_completo = centrality.closeness(g_completo)\n",
    "#for value in cc:\n",
    "#    print(value) [debug]"
   ]
  },
  {
   "cell_type": "markdown",
   "id": "f4d2b498",
   "metadata": {},
   "source": [
    "Depois podemos adicionar essa propriedade aos vértices do grafo através do método `add_vp`:"
   ]
  },
  {
   "cell_type": "code",
   "execution_count": 101,
   "id": "9287be8c",
   "metadata": {},
   "outputs": [],
   "source": [
    "g_reduzido.add_vp('closeness', cc_reduzido)\n",
    "\n",
    "g_completo.add_vp('closeness', cc_completo)"
   ]
  },
  {
   "cell_type": "markdown",
   "id": "433773d8",
   "metadata": {},
   "source": [
    "Abaixo podemos ver as propriedades dos vértices formatadas como um dataframe do pandas de maneira decrescente (veremos a tabela do grafo completo):"
   ]
  },
  {
   "cell_type": "code",
   "execution_count": 102,
   "id": "7e1e0e75",
   "metadata": {},
   "outputs": [
    {
     "data": {
      "text/html": [
       "<div>\n",
       "<style scoped>\n",
       "    .dataframe tbody tr th:only-of-type {\n",
       "        vertical-align: middle;\n",
       "    }\n",
       "\n",
       "    .dataframe tbody tr th {\n",
       "        vertical-align: top;\n",
       "    }\n",
       "\n",
       "    .dataframe thead th {\n",
       "        text-align: right;\n",
       "    }\n",
       "</style>\n",
       "<table border=\"1\" class=\"dataframe\">\n",
       "  <thead>\n",
       "    <tr style=\"text-align: right;\">\n",
       "      <th></th>\n",
       "      <th>nome</th>\n",
       "      <th>closeness</th>\n",
       "    </tr>\n",
       "    <tr>\n",
       "      <th>id</th>\n",
       "      <th></th>\n",
       "      <th></th>\n",
       "    </tr>\n",
       "  </thead>\n",
       "  <tbody>\n",
       "    <tr>\n",
       "      <th>6221</th>\n",
       "      <td>NBA</td>\n",
       "      <td>0.349670</td>\n",
       "    </tr>\n",
       "    <tr>\n",
       "      <th>3108</th>\n",
       "      <td>Cristiano Ronaldo</td>\n",
       "      <td>0.344542</td>\n",
       "    </tr>\n",
       "    <tr>\n",
       "      <th>9126</th>\n",
       "      <td>David Beckham</td>\n",
       "      <td>0.343569</td>\n",
       "    </tr>\n",
       "    <tr>\n",
       "      <th>11134</th>\n",
       "      <td>LeBron James</td>\n",
       "      <td>0.343288</td>\n",
       "    </tr>\n",
       "    <tr>\n",
       "      <th>6929</th>\n",
       "      <td>Vernon Davis</td>\n",
       "      <td>0.342864</td>\n",
       "    </tr>\n",
       "    <tr>\n",
       "      <th>4065</th>\n",
       "      <td>Kobe Bryant</td>\n",
       "      <td>0.341908</td>\n",
       "    </tr>\n",
       "    <tr>\n",
       "      <th>10583</th>\n",
       "      <td>Ivy Martin</td>\n",
       "      <td>0.339979</td>\n",
       "    </tr>\n",
       "    <tr>\n",
       "      <th>8137</th>\n",
       "      <td>Leo Messi</td>\n",
       "      <td>0.330071</td>\n",
       "    </tr>\n",
       "    <tr>\n",
       "      <th>774</th>\n",
       "      <td>\"Coby Miller</td>\n",
       "      <td>0.330040</td>\n",
       "    </tr>\n",
       "    <tr>\n",
       "      <th>11976</th>\n",
       "      <td>NFL</td>\n",
       "      <td>0.330024</td>\n",
       "    </tr>\n",
       "  </tbody>\n",
       "</table>\n",
       "</div>"
      ],
      "text/plain": [
       "                    nome  closeness\n",
       "id                                 \n",
       "6221                 NBA   0.349670\n",
       "3108   Cristiano Ronaldo   0.344542\n",
       "9126       David Beckham   0.343569\n",
       "11134       LeBron James   0.343288\n",
       "6929        Vernon Davis   0.342864\n",
       "4065         Kobe Bryant   0.341908\n",
       "10583         Ivy Martin   0.339979\n",
       "8137           Leo Messi   0.330071\n",
       "774         \"Coby Miller   0.330040\n",
       "11976                NFL   0.330024"
      ]
     },
     "execution_count": 102,
     "metadata": {},
     "output_type": "execute_result"
    }
   ],
   "source": [
    "gt_data(g_completo).sort_values(\"closeness\", ascending = False).head(10)"
   ]
  },
  {
   "cell_type": "markdown",
   "id": "585ab96c",
   "metadata": {},
   "source": [
    "Abaixo também podemos ver as propriedades dos vértices formatadas como um dataframe do pandas de maneira crescente (veremos a tabela do grafo completo):\n"
   ]
  },
  {
   "cell_type": "code",
   "execution_count": 103,
   "id": "084df556",
   "metadata": {},
   "outputs": [
    {
     "data": {
      "text/html": [
       "<div>\n",
       "<style scoped>\n",
       "    .dataframe tbody tr th:only-of-type {\n",
       "        vertical-align: middle;\n",
       "    }\n",
       "\n",
       "    .dataframe tbody tr th {\n",
       "        vertical-align: top;\n",
       "    }\n",
       "\n",
       "    .dataframe thead th {\n",
       "        text-align: right;\n",
       "    }\n",
       "</style>\n",
       "<table border=\"1\" class=\"dataframe\">\n",
       "  <thead>\n",
       "    <tr style=\"text-align: right;\">\n",
       "      <th></th>\n",
       "      <th>nome</th>\n",
       "      <th>closeness</th>\n",
       "    </tr>\n",
       "    <tr>\n",
       "      <th>id</th>\n",
       "      <th></th>\n",
       "      <th></th>\n",
       "    </tr>\n",
       "  </thead>\n",
       "  <tbody>\n",
       "    <tr>\n",
       "      <th>872</th>\n",
       "      <td>\"U.S. Army Corps of Engineers</td>\n",
       "      <td>0.123673</td>\n",
       "    </tr>\n",
       "    <tr>\n",
       "      <th>1079</th>\n",
       "      <td>Luis Scola</td>\n",
       "      <td>0.137355</td>\n",
       "    </tr>\n",
       "    <tr>\n",
       "      <th>7246</th>\n",
       "      <td>Finn 'karrigan' Andersen</td>\n",
       "      <td>0.137355</td>\n",
       "    </tr>\n",
       "    <tr>\n",
       "      <th>289</th>\n",
       "      <td>Yohei Uchino</td>\n",
       "      <td>0.137355</td>\n",
       "    </tr>\n",
       "    <tr>\n",
       "      <th>6688</th>\n",
       "      <td>Denis 'denis' Howell</td>\n",
       "      <td>0.137355</td>\n",
       "    </tr>\n",
       "    <tr>\n",
       "      <th>7353</th>\n",
       "      <td>Ohio University Men's Basketball</td>\n",
       "      <td>0.139803</td>\n",
       "    </tr>\n",
       "    <tr>\n",
       "      <th>5014</th>\n",
       "      <td>Alessio Romagnoli</td>\n",
       "      <td>0.141119</td>\n",
       "    </tr>\n",
       "    <tr>\n",
       "      <th>8371</th>\n",
       "      <td>Alysia Rissling</td>\n",
       "      <td>0.141121</td>\n",
       "    </tr>\n",
       "    <tr>\n",
       "      <th>7176</th>\n",
       "      <td>Christian Mathenia</td>\n",
       "      <td>0.141122</td>\n",
       "    </tr>\n",
       "    <tr>\n",
       "      <th>6612</th>\n",
       "      <td>\"U.S. Army Corps of Engineers</td>\n",
       "      <td>0.141124</td>\n",
       "    </tr>\n",
       "  </tbody>\n",
       "</table>\n",
       "</div>"
      ],
      "text/plain": [
       "                                  nome  closeness\n",
       "id                                               \n",
       "872      \"U.S. Army Corps of Engineers   0.123673\n",
       "1079                        Luis Scola   0.137355\n",
       "7246          Finn 'karrigan' Andersen   0.137355\n",
       "289                       Yohei Uchino   0.137355\n",
       "6688              Denis 'denis' Howell   0.137355\n",
       "7353  Ohio University Men's Basketball   0.139803\n",
       "5014                 Alessio Romagnoli   0.141119\n",
       "8371                   Alysia Rissling   0.141121\n",
       "7176                Christian Mathenia   0.141122\n",
       "6612     \"U.S. Army Corps of Engineers   0.141124"
      ]
     },
     "execution_count": 103,
     "metadata": {},
     "output_type": "execute_result"
    }
   ],
   "source": [
    "gt_data(g_completo).sort_values(\"closeness\", ascending = True).head(10)"
   ]
  },
  {
   "cell_type": "code",
   "execution_count": 108,
   "id": "81f1ff6d",
   "metadata": {},
   "outputs": [],
   "source": [
    "#m = gt_draw.sfdp_layout(g_reduzido)\n",
    "#gt_move(g_reduzido, m)\n",
    "#gt_save(g_reduzido, 'centralidadeCloseness.net.gz')\n",
    "#r = netpixi.render('centralidadeCloseness.net.gz')"
   ]
  },
  {
   "cell_type": "code",
   "execution_count": 107,
   "id": "5878a912",
   "metadata": {},
   "outputs": [
    {
     "data": {
      "text/html": [
       "\n",
       "        <div id=\"QptjAMEsrJFyHs7GTTnBaD\"></div>\n",
       "        <script>netpixi.call('QptjAMEsrJFyHs7GTTnBaD', 'SvjA6cY7hztiA6Mf7RgvLJ', 'setGraph', 'eyJ0eXBlIjogInZlcnRleCIsICJwcm9wcyI6IHsic3JjIjogIm5vbWUiLCAiZHN0IjogIl9rZXkifX0K');</script>\n",
       "    "
      ],
      "text/plain": [
       "<IPython.core.display.HTML object>"
      ]
     },
     "metadata": {},
     "output_type": "display_data"
    },
    {
     "data": {
      "text/html": [
       "\n",
       "        <div id=\"b94hKcU2EBFp5zHj9PugeH\"></div>\n",
       "        <script>netpixi.call('b94hKcU2EBFp5zHj9PugeH', 'SvjA6cY7hztiA6Mf7RgvLJ', 'normalizeGraph', 'eyJ0eXBlIjogInZlcnRleCIsICJwcm9wcyI6IHsic3JjIjogImNsb3NlbmVzcyIsICJtaW4iOiAwLjUsICJtYXgiOiAzfX0K');</script>\n",
       "    "
      ],
      "text/plain": [
       "<IPython.core.display.HTML object>"
      ]
     },
     "metadata": {},
     "output_type": "display_data"
    }
   ],
   "source": [
    "r.vertex_set_key('nome')\n",
    "r.vertex_scale('closeness', 0.5, 3)"
   ]
  },
  {
   "cell_type": "markdown",
   "id": "cca52d21",
   "metadata": {},
   "source": [
    "Em relação ao *closeness* não conseguimos enxergar uma interpretação conceitual plausível, isso porque todos os vértices possuem *closeness* parecidos e de maneira geral estão próximos entre si em seus grupos e também fora deles, isto é, nessa rede de páginas no *Facebook* não há muito como as páginas de esporte terem distâncias muito grandes entre si, pois embora existam diferentes categorias de esporte, muitas delas estão conectadas de alguma forma por alguma similaridade, então não há um conceito que defina bem essa métrica e que faça sentido para comparações. \n",
    "\n",
    "Apenas algumas páginas tem um *closeness* um pouco maior do que as outras mas é porque de maneira geral são centrais na rede toda, ou seja, são páginas que provavelmente são as mais famosas no mundo dos esportes e até fora dele também, dessa forma, acabam tendo maior proximidade com as outras vértices por conta da sua posição central, que é interessante.\n"
   ]
  },
  {
   "cell_type": "markdown",
   "id": "19d888e1",
   "metadata": {},
   "source": [
    "<h3>[d] Clustering coefficient</h3>\n",
    "\n",
    "Agora saindo um pouco das métricas de centralidade, também é interessante analisar o quão agrupado as redes estão, ou seja, o quanto um vértice parece fazer parte de um grupo. Na análise visual fizemos isso com um algoritmo baseado na ideia de *force-directed graph*, mas saindo desse campo podemos verificar isso também através de uma métrica.\n",
    "\n",
    "Assim, o *clustering coefficient* vai analisar o quanto uma página de *Facebook* compartilha de curtidas mútuas com todas as páginas mais próximas de si (do seu \"grupinho\"), isso vai ser interessante para descobrir o quão conectadas essas páginas de interesses parecidos estão entre si.\n"
   ]
  },
  {
   "cell_type": "markdown",
   "id": "39fa4dd2",
   "metadata": {},
   "source": [
    "Primeiro vamos carregar os grafos que serão utilizados:"
   ]
  },
  {
   "cell_type": "code",
   "execution_count": 109,
   "id": "e6feff0b",
   "metadata": {},
   "outputs": [],
   "source": [
    "g_reduzido = gt_load('force-directed-grafoMenor.net.gz')\n",
    "\n",
    "g_completo = gt_load('force-directed.net.gz')"
   ]
  },
  {
   "cell_type": "markdown",
   "id": "22d1e389",
   "metadata": {},
   "source": [
    "Agora vamos calcular o *clustering coefficient*:"
   ]
  },
  {
   "cell_type": "code",
   "execution_count": 110,
   "id": "3116b766",
   "metadata": {},
   "outputs": [],
   "source": [
    "from graph_tool import clustering\n",
    "\n",
    "lc_reduzido = clustering.local_clustering(g_reduzido)\n",
    "\n",
    "lc_completo = clustering.local_clustering(g_completo)\n",
    "\n",
    "#for value in lc:\n",
    "#    print(value) [debug]"
   ]
  },
  {
   "cell_type": "markdown",
   "id": "a25a1731",
   "metadata": {},
   "source": [
    "Depois podemos adicionar essa propriedade aos vértices do grafo através do método `add_vp`:"
   ]
  },
  {
   "cell_type": "code",
   "execution_count": 111,
   "id": "bcf71695",
   "metadata": {},
   "outputs": [],
   "source": [
    "g_reduzido.add_vp('clustering', lc_reduzido)\n",
    "\n",
    "g_completo.add_vp('clustering', lc_completo)"
   ]
  },
  {
   "cell_type": "markdown",
   "id": "d7339de1",
   "metadata": {},
   "source": [
    "Abaixo podemos ver as propriedades dos vértices formatadas como um dataframe do pandas de maneira decrescente (veremos a tabela do grafo completo):"
   ]
  },
  {
   "cell_type": "code",
   "execution_count": 112,
   "id": "fde1e5a2",
   "metadata": {},
   "outputs": [
    {
     "data": {
      "text/html": [
       "<div>\n",
       "<style scoped>\n",
       "    .dataframe tbody tr th:only-of-type {\n",
       "        vertical-align: middle;\n",
       "    }\n",
       "\n",
       "    .dataframe tbody tr th {\n",
       "        vertical-align: top;\n",
       "    }\n",
       "\n",
       "    .dataframe thead th {\n",
       "        text-align: right;\n",
       "    }\n",
       "</style>\n",
       "<table border=\"1\" class=\"dataframe\">\n",
       "  <thead>\n",
       "    <tr style=\"text-align: right;\">\n",
       "      <th></th>\n",
       "      <th>nome</th>\n",
       "      <th>clustering</th>\n",
       "    </tr>\n",
       "    <tr>\n",
       "      <th>id</th>\n",
       "      <th></th>\n",
       "      <th></th>\n",
       "    </tr>\n",
       "  </thead>\n",
       "  <tbody>\n",
       "    <tr>\n",
       "      <th>13792</th>\n",
       "      <td>Petrix Barbosa</td>\n",
       "      <td>1.0</td>\n",
       "    </tr>\n",
       "    <tr>\n",
       "      <th>1240</th>\n",
       "      <td>Andreas Rojewski</td>\n",
       "      <td>1.0</td>\n",
       "    </tr>\n",
       "    <tr>\n",
       "      <th>1978</th>\n",
       "      <td>Midol Bastien</td>\n",
       "      <td>1.0</td>\n",
       "    </tr>\n",
       "    <tr>\n",
       "      <th>8484</th>\n",
       "      <td>FC Barcelona Futbol Sala</td>\n",
       "      <td>1.0</td>\n",
       "    </tr>\n",
       "    <tr>\n",
       "      <th>7664</th>\n",
       "      <td>Nia Künzer</td>\n",
       "      <td>1.0</td>\n",
       "    </tr>\n",
       "    <tr>\n",
       "      <th>11472</th>\n",
       "      <td>Rey Maualuga</td>\n",
       "      <td>1.0</td>\n",
       "    </tr>\n",
       "    <tr>\n",
       "      <th>137</th>\n",
       "      <td>Julian Reister</td>\n",
       "      <td>1.0</td>\n",
       "    </tr>\n",
       "    <tr>\n",
       "      <th>2611</th>\n",
       "      <td>許基宏 粉絲團</td>\n",
       "      <td>1.0</td>\n",
       "    </tr>\n",
       "    <tr>\n",
       "      <th>13437</th>\n",
       "      <td>Xavier Woods</td>\n",
       "      <td>1.0</td>\n",
       "    </tr>\n",
       "    <tr>\n",
       "      <th>3857</th>\n",
       "      <td>Terence Kongolo</td>\n",
       "      <td>1.0</td>\n",
       "    </tr>\n",
       "  </tbody>\n",
       "</table>\n",
       "</div>"
      ],
      "text/plain": [
       "                           nome  clustering\n",
       "id                                         \n",
       "13792            Petrix Barbosa         1.0\n",
       "1240           Andreas Rojewski         1.0\n",
       "1978              Midol Bastien         1.0\n",
       "8484   FC Barcelona Futbol Sala         1.0\n",
       "7664                 Nia Künzer         1.0\n",
       "11472              Rey Maualuga         1.0\n",
       "137              Julian Reister         1.0\n",
       "2611                    許基宏 粉絲團         1.0\n",
       "13437              Xavier Woods         1.0\n",
       "3857            Terence Kongolo         1.0"
      ]
     },
     "execution_count": 112,
     "metadata": {},
     "output_type": "execute_result"
    }
   ],
   "source": [
    "gt_data(g_completo).sort_values(\"clustering\", ascending = False).head(10)"
   ]
  },
  {
   "cell_type": "markdown",
   "id": "f9dbdfd3",
   "metadata": {},
   "source": [
    "Abaixo também podemos ver as propriedades dos vértices formatadas como um dataframe do pandas de maneira crescente (veremos a tabela do grafo completo):"
   ]
  },
  {
   "cell_type": "code",
   "execution_count": 113,
   "id": "2d04657d",
   "metadata": {},
   "outputs": [
    {
     "data": {
      "text/html": [
       "<div>\n",
       "<style scoped>\n",
       "    .dataframe tbody tr th:only-of-type {\n",
       "        vertical-align: middle;\n",
       "    }\n",
       "\n",
       "    .dataframe tbody tr th {\n",
       "        vertical-align: top;\n",
       "    }\n",
       "\n",
       "    .dataframe thead th {\n",
       "        text-align: right;\n",
       "    }\n",
       "</style>\n",
       "<table border=\"1\" class=\"dataframe\">\n",
       "  <thead>\n",
       "    <tr style=\"text-align: right;\">\n",
       "      <th></th>\n",
       "      <th>nome</th>\n",
       "      <th>clustering</th>\n",
       "    </tr>\n",
       "    <tr>\n",
       "      <th>id</th>\n",
       "      <th></th>\n",
       "      <th></th>\n",
       "    </tr>\n",
       "  </thead>\n",
       "  <tbody>\n",
       "    <tr>\n",
       "      <th>1947</th>\n",
       "      <td>\"Quinn \"\"Moose\"\" Ojinnaka\"</td>\n",
       "      <td>0.0</td>\n",
       "    </tr>\n",
       "    <tr>\n",
       "      <th>1372</th>\n",
       "      <td>Ogden Raptors</td>\n",
       "      <td>0.0</td>\n",
       "    </tr>\n",
       "    <tr>\n",
       "      <th>9385</th>\n",
       "      <td>Sarah Reinertsen</td>\n",
       "      <td>0.0</td>\n",
       "    </tr>\n",
       "    <tr>\n",
       "      <th>3889</th>\n",
       "      <td>Denzel Valentine</td>\n",
       "      <td>0.0</td>\n",
       "    </tr>\n",
       "    <tr>\n",
       "      <th>9427</th>\n",
       "      <td>Ferencvárosi Torna Club</td>\n",
       "      <td>0.0</td>\n",
       "    </tr>\n",
       "    <tr>\n",
       "      <th>7186</th>\n",
       "      <td>Fernando Casanova</td>\n",
       "      <td>0.0</td>\n",
       "    </tr>\n",
       "    <tr>\n",
       "      <th>8243</th>\n",
       "      <td>Nabil Bahoui</td>\n",
       "      <td>0.0</td>\n",
       "    </tr>\n",
       "    <tr>\n",
       "      <th>4946</th>\n",
       "      <td>Ashley Nee</td>\n",
       "      <td>0.0</td>\n",
       "    </tr>\n",
       "    <tr>\n",
       "      <th>5119</th>\n",
       "      <td>FC Basel 1893 Esports</td>\n",
       "      <td>0.0</td>\n",
       "    </tr>\n",
       "    <tr>\n",
       "      <th>5223</th>\n",
       "      <td>Kongsvinger IL Toppfotball</td>\n",
       "      <td>0.0</td>\n",
       "    </tr>\n",
       "  </tbody>\n",
       "</table>\n",
       "</div>"
      ],
      "text/plain": [
       "                            nome  clustering\n",
       "id                                          \n",
       "1947  \"Quinn \"\"Moose\"\" Ojinnaka\"         0.0\n",
       "1372               Ogden Raptors         0.0\n",
       "9385            Sarah Reinertsen         0.0\n",
       "3889            Denzel Valentine         0.0\n",
       "9427     Ferencvárosi Torna Club         0.0\n",
       "7186           Fernando Casanova         0.0\n",
       "8243                Nabil Bahoui         0.0\n",
       "4946                  Ashley Nee         0.0\n",
       "5119       FC Basel 1893 Esports         0.0\n",
       "5223  Kongsvinger IL Toppfotball         0.0"
      ]
     },
     "execution_count": 113,
     "metadata": {},
     "output_type": "execute_result"
    }
   ],
   "source": [
    "gt_data(g_completo).sort_values(\"clustering\", ascending = True).head(10)"
   ]
  },
  {
   "cell_type": "code",
   "execution_count": 116,
   "id": "446dc744",
   "metadata": {},
   "outputs": [],
   "source": [
    "#m = gt_draw.sfdp_layout(g_reduzido)\n",
    "#gt_move(g_reduzido, m)\n",
    "#gt_save(g_reduzido, 'clustering.net.gz')\n",
    "#r = netpixi.render('clustering.net.gz')"
   ]
  },
  {
   "cell_type": "code",
   "execution_count": 115,
   "id": "4ad1d04a",
   "metadata": {},
   "outputs": [
    {
     "data": {
      "text/html": [
       "\n",
       "        <div id=\"CwjQeXNCsaw2VjMzNTA8hw\"></div>\n",
       "        <script>netpixi.call('CwjQeXNCsaw2VjMzNTA8hw', 'McuRrF5uLL7GdaegWqas9u', 'setGraph', 'eyJ0eXBlIjogInZlcnRleCIsICJwcm9wcyI6IHsic3JjIjogIm5vbWUiLCAiZHN0IjogIl9rZXkifX0K');</script>\n",
       "    "
      ],
      "text/plain": [
       "<IPython.core.display.HTML object>"
      ]
     },
     "metadata": {},
     "output_type": "display_data"
    },
    {
     "data": {
      "text/html": [
       "\n",
       "        <div id=\"aXoGb64SRS7XKzmXnGFn6K\"></div>\n",
       "        <script>netpixi.call('aXoGb64SRS7XKzmXnGFn6K', 'McuRrF5uLL7GdaegWqas9u', 'normalizeGraph', 'eyJ0eXBlIjogInZlcnRleCIsICJwcm9wcyI6IHsic3JjIjogImNsdXN0ZXJpbmciLCAibWluIjogMSwgIm1heCI6IDEwfX0K');</script>\n",
       "    "
      ],
      "text/plain": [
       "<IPython.core.display.HTML object>"
      ]
     },
     "metadata": {},
     "output_type": "display_data"
    }
   ],
   "source": [
    "r.vertex_set_key('nome')\n",
    "\n",
    "r.vertex_scale('clustering', 1, 10)"
   ]
  },
  {
   "cell_type": "markdown",
   "id": "a09a86ab",
   "metadata": {},
   "source": [
    "No grafo que utiliza arestas e vértices reduzidas são poucos os casos que o *clustering* é maior do que 0, indicando que os membros daquele grupo estão interligados. Mas se rodarmos esse cálculo do coeficiente para a base de dados inteira, percebemos que muitos grupos estão interligados, e esses grupos que são interligados possuem interesses em esportes parecidos. Por exemplo, temos um *cluster* com Mario Gotze, Xabi Alonso, Franck Ribéry, entre outros jogadores que mutuamente se curtem pois jogavam todos no mesmo time: o Bayern de Munique.\n",
    "\n",
    "Assim, o conceito de *clustering* pode significar pessoas que fazem parte de um mesmo grupo, seja de um mesmo time, ou que jogaram ou gostam de um mesmo esporte. Além disso, a posição que eles se encontram é interessante, isso por estarem representando um grupo de interesses em comum ou até mesmo um time, como no caso do grupo formado pelos jogadores do Bayern. E no geral sua posição tende a ser concentrada, o que de fato indica a formação de \"panelinhas\", como também foi visto na APS anterior na análise visual. "
   ]
  },
  {
   "cell_type": "markdown",
   "id": "3a077dbb",
   "metadata": {},
   "source": [
    "<h3>[e] Lacunas estruturais </h3>\n",
    "\n",
    "Por fim as *lacunas estruturais* estão associadas a uma teoria que vê uma aresta como um possível investimento, ou seja, se tenho conexão com algum vértice, quero que essa conexão me traga recursos diferentes do que já tenho, para evitar a redundância. Assim, tenho redundância se, por exemplo, `u` está conectado com `w` e `v` está conectado com `w`, já que `u` pode obter informações e recursos de `v` através de `w` e também em relação ao `w`, já que `u` pode obter recursos e informações de `w` através de `v`. Esses dois exemplos representam dos tipos de redundância para grafos dirigidos, mas para grafos não-dirigidos elas são essencialmente a mesma coisa.\n",
    "\n",
    "E algumas formas de medir isso são através do tamanho efetivo de de restrição. A primeira penaliza o *degree* sempre que acontecerem redundâncias e a segunda mostra o quanto os recursos de uma página estão restringidos por suas relações (*diminui conforme o investimento em uma relação diminui,* mas, ao mesmo tempo, *aumenta conforme essa conexão tem mais redundância*).\n"
   ]
  },
  {
   "cell_type": "markdown",
   "id": "731ba474",
   "metadata": {},
   "source": [
    "Primeiro vamos carregar os grafos que serão utilizados:"
   ]
  },
  {
   "cell_type": "code",
   "execution_count": 117,
   "id": "c627f69a",
   "metadata": {},
   "outputs": [],
   "source": [
    "g_reduzido = gt_load('force-directed-grafoMenor.net.gz')\n",
    "\n",
    "g_completo = gt_load('force-directed.net.gz')"
   ]
  },
  {
   "cell_type": "markdown",
   "id": "b9d07113",
   "metadata": {},
   "source": [
    "Agora vamos calcular o *effective size*:"
   ]
  },
  {
   "cell_type": "code",
   "execution_count": 118,
   "id": "d91be4fd",
   "metadata": {},
   "outputs": [],
   "source": [
    "es_reduzido = gt_effective_size(g_reduzido)\n",
    "\n",
    "es_completo = gt_effective_size(g_completo)\n",
    "\n",
    "#for value in es:\n",
    "#    print(value) [debug]"
   ]
  },
  {
   "cell_type": "markdown",
   "id": "3566668f",
   "metadata": {},
   "source": [
    "Depois podemos adicionar essa propriedade aos vértices do grafo através do método `add_vp`:"
   ]
  },
  {
   "cell_type": "code",
   "execution_count": 119,
   "id": "ba35ebd7",
   "metadata": {},
   "outputs": [],
   "source": [
    "g_reduzido.add_vp('effsize', es_reduzido)\n",
    "\n",
    "g_completo.add_vp('effsize', es_completo)"
   ]
  },
  {
   "cell_type": "markdown",
   "id": "7cd8e050",
   "metadata": {},
   "source": [
    "Abaixo podemos ver as propriedades dos vértices formatadas como um dataframe do pandas de maneira decrescente (veremos a tabela do grafo completo):"
   ]
  },
  {
   "cell_type": "code",
   "execution_count": 120,
   "id": "49874d89",
   "metadata": {},
   "outputs": [
    {
     "data": {
      "text/html": [
       "<div>\n",
       "<style scoped>\n",
       "    .dataframe tbody tr th:only-of-type {\n",
       "        vertical-align: middle;\n",
       "    }\n",
       "\n",
       "    .dataframe tbody tr th {\n",
       "        vertical-align: top;\n",
       "    }\n",
       "\n",
       "    .dataframe thead th {\n",
       "        text-align: right;\n",
       "    }\n",
       "</style>\n",
       "<table border=\"1\" class=\"dataframe\">\n",
       "  <thead>\n",
       "    <tr style=\"text-align: right;\">\n",
       "      <th></th>\n",
       "      <th>nome</th>\n",
       "      <th>effsize</th>\n",
       "    </tr>\n",
       "    <tr>\n",
       "      <th>id</th>\n",
       "      <th></th>\n",
       "      <th></th>\n",
       "    </tr>\n",
       "  </thead>\n",
       "  <tbody>\n",
       "    <tr>\n",
       "      <th>6221</th>\n",
       "      <td>NBA</td>\n",
       "      <td>454.662393</td>\n",
       "    </tr>\n",
       "    <tr>\n",
       "      <th>5328</th>\n",
       "      <td>UFC</td>\n",
       "      <td>392.263682</td>\n",
       "    </tr>\n",
       "    <tr>\n",
       "      <th>3108</th>\n",
       "      <td>Cristiano Ronaldo</td>\n",
       "      <td>303.649351</td>\n",
       "    </tr>\n",
       "    <tr>\n",
       "      <th>11976</th>\n",
       "      <td>NFL</td>\n",
       "      <td>285.246575</td>\n",
       "    </tr>\n",
       "    <tr>\n",
       "      <th>11134</th>\n",
       "      <td>LeBron James</td>\n",
       "      <td>261.126866</td>\n",
       "    </tr>\n",
       "    <tr>\n",
       "      <th>3334</th>\n",
       "      <td>UEFA Champions League</td>\n",
       "      <td>251.292308</td>\n",
       "    </tr>\n",
       "    <tr>\n",
       "      <th>11881</th>\n",
       "      <td>John Doomsday Howard MMA</td>\n",
       "      <td>249.210117</td>\n",
       "    </tr>\n",
       "    <tr>\n",
       "      <th>8137</th>\n",
       "      <td>Leo Messi</td>\n",
       "      <td>229.837607</td>\n",
       "    </tr>\n",
       "    <tr>\n",
       "      <th>13571</th>\n",
       "      <td>Martyn Ashton</td>\n",
       "      <td>219.204444</td>\n",
       "    </tr>\n",
       "    <tr>\n",
       "      <th>12449</th>\n",
       "      <td>Team USA</td>\n",
       "      <td>214.753425</td>\n",
       "    </tr>\n",
       "  </tbody>\n",
       "</table>\n",
       "</div>"
      ],
      "text/plain": [
       "                           nome     effsize\n",
       "id                                         \n",
       "6221                        NBA  454.662393\n",
       "5328                        UFC  392.263682\n",
       "3108          Cristiano Ronaldo  303.649351\n",
       "11976                       NFL  285.246575\n",
       "11134              LeBron James  261.126866\n",
       "3334      UEFA Champions League  251.292308\n",
       "11881  John Doomsday Howard MMA  249.210117\n",
       "8137                  Leo Messi  229.837607\n",
       "13571             Martyn Ashton  219.204444\n",
       "12449                  Team USA  214.753425"
      ]
     },
     "execution_count": 120,
     "metadata": {},
     "output_type": "execute_result"
    }
   ],
   "source": [
    "gt_data(g_completo).sort_values(\"effsize\", ascending = False).head(10)"
   ]
  },
  {
   "cell_type": "markdown",
   "id": "bf37a4f2",
   "metadata": {},
   "source": [
    "Abaixo podemos ver as propriedades dos vértices formatadas como um dataframe do pandas de maneira crescente (veremos a tabela do grafo completo):"
   ]
  },
  {
   "cell_type": "code",
   "execution_count": 121,
   "id": "0b28ce93",
   "metadata": {},
   "outputs": [
    {
     "data": {
      "text/html": [
       "<div>\n",
       "<style scoped>\n",
       "    .dataframe tbody tr th:only-of-type {\n",
       "        vertical-align: middle;\n",
       "    }\n",
       "\n",
       "    .dataframe tbody tr th {\n",
       "        vertical-align: top;\n",
       "    }\n",
       "\n",
       "    .dataframe thead th {\n",
       "        text-align: right;\n",
       "    }\n",
       "</style>\n",
       "<table border=\"1\" class=\"dataframe\">\n",
       "  <thead>\n",
       "    <tr style=\"text-align: right;\">\n",
       "      <th></th>\n",
       "      <th>nome</th>\n",
       "      <th>effsize</th>\n",
       "    </tr>\n",
       "    <tr>\n",
       "      <th>id</th>\n",
       "      <th></th>\n",
       "      <th></th>\n",
       "    </tr>\n",
       "  </thead>\n",
       "  <tbody>\n",
       "    <tr>\n",
       "      <th>13792</th>\n",
       "      <td>Petrix Barbosa</td>\n",
       "      <td>1.0</td>\n",
       "    </tr>\n",
       "    <tr>\n",
       "      <th>8964</th>\n",
       "      <td>Kai Otton 'Ottz'</td>\n",
       "      <td>1.0</td>\n",
       "    </tr>\n",
       "    <tr>\n",
       "      <th>5795</th>\n",
       "      <td>Justin Morneau</td>\n",
       "      <td>1.0</td>\n",
       "    </tr>\n",
       "    <tr>\n",
       "      <th>8183</th>\n",
       "      <td>AAU Basketball</td>\n",
       "      <td>1.0</td>\n",
       "    </tr>\n",
       "    <tr>\n",
       "      <th>13439</th>\n",
       "      <td>Willy Santos</td>\n",
       "      <td>1.0</td>\n",
       "    </tr>\n",
       "    <tr>\n",
       "      <th>6628</th>\n",
       "      <td>Will Bayley</td>\n",
       "      <td>1.0</td>\n",
       "    </tr>\n",
       "    <tr>\n",
       "      <th>1911</th>\n",
       "      <td>Eric Bailly</td>\n",
       "      <td>1.0</td>\n",
       "    </tr>\n",
       "    <tr>\n",
       "      <th>3832</th>\n",
       "      <td>Cyc Fitness</td>\n",
       "      <td>1.0</td>\n",
       "    </tr>\n",
       "    <tr>\n",
       "      <th>12938</th>\n",
       "      <td>Dávid Vojvoda</td>\n",
       "      <td>1.0</td>\n",
       "    </tr>\n",
       "    <tr>\n",
       "      <th>513</th>\n",
       "      <td>Porter Maberry</td>\n",
       "      <td>1.0</td>\n",
       "    </tr>\n",
       "  </tbody>\n",
       "</table>\n",
       "</div>"
      ],
      "text/plain": [
       "                   nome  effsize\n",
       "id                              \n",
       "13792    Petrix Barbosa      1.0\n",
       "8964   Kai Otton 'Ottz'      1.0\n",
       "5795     Justin Morneau      1.0\n",
       "8183     AAU Basketball      1.0\n",
       "13439      Willy Santos      1.0\n",
       "6628        Will Bayley      1.0\n",
       "1911        Eric Bailly      1.0\n",
       "3832        Cyc Fitness      1.0\n",
       "12938     Dávid Vojvoda      1.0\n",
       "513      Porter Maberry      1.0"
      ]
     },
     "execution_count": 121,
     "metadata": {},
     "output_type": "execute_result"
    }
   ],
   "source": [
    "gt_data(g_completo).sort_values(\"effsize\", ascending = True).head(10)"
   ]
  },
  {
   "cell_type": "code",
   "execution_count": 124,
   "id": "c5353cd4",
   "metadata": {},
   "outputs": [],
   "source": [
    "#m = gt_draw.sfdp_layout(g_reduzido)\n",
    "#gt_move(g_reduzido, m)\n",
    "#gt_save(g_reduzido, 'effsize.net.gz')\n",
    "#r = netpixi.render('effsize.net.gz')"
   ]
  },
  {
   "cell_type": "code",
   "execution_count": 123,
   "id": "3be3386b",
   "metadata": {},
   "outputs": [
    {
     "data": {
      "text/html": [
       "\n",
       "        <div id=\"DvStvXK9TeP98bPPf2bfka\"></div>\n",
       "        <script>netpixi.call('DvStvXK9TeP98bPPf2bfka', 'eDFPriehN3YThFDnRohDaf', 'setGraph', 'eyJ0eXBlIjogInZlcnRleCIsICJwcm9wcyI6IHsic3JjIjogIm5vbWUiLCAiZHN0IjogIl9rZXkifX0K');</script>\n",
       "    "
      ],
      "text/plain": [
       "<IPython.core.display.HTML object>"
      ]
     },
     "metadata": {},
     "output_type": "display_data"
    },
    {
     "data": {
      "text/html": [
       "\n",
       "        <div id=\"RhGB5T5835NPxqRkXiHErJ\"></div>\n",
       "        <script>netpixi.call('RhGB5T5835NPxqRkXiHErJ', 'eDFPriehN3YThFDnRohDaf', 'normalizeGraph', 'eyJ0eXBlIjogInZlcnRleCIsICJwcm9wcyI6IHsic3JjIjogImVmZnNpemUiLCAibWluIjogMSwgIm1heCI6IDIwfX0K');</script>\n",
       "    "
      ],
      "text/plain": [
       "<IPython.core.display.HTML object>"
      ]
     },
     "metadata": {},
     "output_type": "display_data"
    }
   ],
   "source": [
    "r.vertex_set_key('nome')\n",
    "\n",
    "r.vertex_scale('effsize', 1, 20)"
   ]
  },
  {
   "cell_type": "markdown",
   "id": "70303e7a",
   "metadata": {},
   "source": [
    "Em relação ao Effective Size, pode-se levar em conta justamente o que é dito no próprio nome da métrica, uma vez que, ao analisarmos a base de dados completa (por meio da tabela com os maiores e menores `effective size`), é possível analisar que páginas do Facebook com Effective size altos representam instituições, organizações ou personalidades muito influentes, não apenas no meio em que atuam, mas em uma escala muito maior e, muitas vezes, em escala global. Por exemplo, o Lebron James ou Cristiano Ronaldo atuam não apenas em suas áreas, como basquete e futebol, respectivamente, mas também em diversas outras, levando a pessoas curtirem suas páginas no Facebook mesmo que não acompanhem o esporte ou a pessoa em si, curtindo meramente pela fama ou importância social. \n",
    "\n",
    "Além disso, podemos concluir que nós com Effective Size baixos podem ser personalidades famosas, porém, acabam sendo muito mais nichadas do que as outras, gerando, muitas vezes, diversas conexões, mas a possibilidade das pessoas que curtem essas páginas se conhecerem é muito maior do que quando o *effective size* é alto. \n",
    "\n",
    "Assim, o conceito de effective size pode ser a fama e a influência das páginas em si, de modo que quanto maior mais influentes e conhecidas são e que quanto menor mais nichadas são.\n",
    "\n",
    "Em relação a posição em que se encontram, temos que as maiores vértices são centrais na base de dados completa e também no meio mais geral que se encontram: por exemplo, Cristiano Ronaldo é central na base de dados e também no seu meio que é o futebolístico, e por conta de ter tanta influência e também fora de seu meio, isso também explica o porquê de talvez não apresentarem tantas redundâncias que abaixem de fato seu *effective size*.\n",
    "\n",
    "**Observação**: O código para gerar o grafo completo não foi utilizado pois demanda muito processamento do computador e acaba deixando o Jupyter muito lento."
   ]
  },
  {
   "cell_type": "markdown",
   "id": "d9059351",
   "metadata": {},
   "source": [
    "Agora vamos repetir tudo que foi feito anteriormento para o *constraint*"
   ]
  },
  {
   "cell_type": "code",
   "execution_count": 125,
   "id": "ee31ec3a",
   "metadata": {},
   "outputs": [],
   "source": [
    "g_reduzido = gt_load('force-directed-grafoMenor.net.gz')\n",
    "\n",
    "g_completo = gt_load('force-directed.net.gz')"
   ]
  },
  {
   "cell_type": "code",
   "execution_count": 126,
   "id": "a10df910",
   "metadata": {},
   "outputs": [],
   "source": [
    "ct_reduzido = gt_constraint(g_reduzido)\n",
    "\n",
    "ct_completo = gt_constraint(g_completo)\n",
    "\n",
    "#for value in ct:\n",
    "#    print(value) [debug]"
   ]
  },
  {
   "cell_type": "code",
   "execution_count": 127,
   "id": "c0f31d9b",
   "metadata": {},
   "outputs": [],
   "source": [
    "g_reduzido.add_vp('constraint', ct_reduzido)\n",
    "\n",
    "g_completo.add_vp('constraint', ct_completo)"
   ]
  },
  {
   "cell_type": "code",
   "execution_count": 128,
   "id": "f8afa988",
   "metadata": {},
   "outputs": [
    {
     "data": {
      "text/html": [
       "<div>\n",
       "<style scoped>\n",
       "    .dataframe tbody tr th:only-of-type {\n",
       "        vertical-align: middle;\n",
       "    }\n",
       "\n",
       "    .dataframe tbody tr th {\n",
       "        vertical-align: top;\n",
       "    }\n",
       "\n",
       "    .dataframe thead th {\n",
       "        text-align: right;\n",
       "    }\n",
       "</style>\n",
       "<table border=\"1\" class=\"dataframe\">\n",
       "  <thead>\n",
       "    <tr style=\"text-align: right;\">\n",
       "      <th></th>\n",
       "      <th>nome</th>\n",
       "      <th>constraint</th>\n",
       "    </tr>\n",
       "    <tr>\n",
       "      <th>id</th>\n",
       "      <th></th>\n",
       "      <th></th>\n",
       "    </tr>\n",
       "  </thead>\n",
       "  <tbody>\n",
       "    <tr>\n",
       "      <th>5823</th>\n",
       "      <td>Sean SS Smith</td>\n",
       "      <td>1.0</td>\n",
       "    </tr>\n",
       "    <tr>\n",
       "      <th>7475</th>\n",
       "      <td>Shelley Olds</td>\n",
       "      <td>1.0</td>\n",
       "    </tr>\n",
       "    <tr>\n",
       "      <th>6143</th>\n",
       "      <td>Daniel Wagner</td>\n",
       "      <td>1.0</td>\n",
       "    </tr>\n",
       "    <tr>\n",
       "      <th>11684</th>\n",
       "      <td>Emma Foy and Laura Thompson - Paracyclists</td>\n",
       "      <td>1.0</td>\n",
       "    </tr>\n",
       "    <tr>\n",
       "      <th>4049</th>\n",
       "      <td>Angy Eiter</td>\n",
       "      <td>1.0</td>\n",
       "    </tr>\n",
       "    <tr>\n",
       "      <th>6013</th>\n",
       "      <td>Hanley Ramirez</td>\n",
       "      <td>1.0</td>\n",
       "    </tr>\n",
       "    <tr>\n",
       "      <th>11249</th>\n",
       "      <td>Hugo Calderano</td>\n",
       "      <td>1.0</td>\n",
       "    </tr>\n",
       "    <tr>\n",
       "      <th>10981</th>\n",
       "      <td>Sandra Gerber</td>\n",
       "      <td>1.0</td>\n",
       "    </tr>\n",
       "    <tr>\n",
       "      <th>133</th>\n",
       "      <td>Real Estelí FC</td>\n",
       "      <td>1.0</td>\n",
       "    </tr>\n",
       "    <tr>\n",
       "      <th>7187</th>\n",
       "      <td>Capricorn Commanders</td>\n",
       "      <td>1.0</td>\n",
       "    </tr>\n",
       "  </tbody>\n",
       "</table>\n",
       "</div>"
      ],
      "text/plain": [
       "                                             nome  constraint\n",
       "id                                                           \n",
       "5823                                Sean SS Smith         1.0\n",
       "7475                                 Shelley Olds         1.0\n",
       "6143                                Daniel Wagner         1.0\n",
       "11684  Emma Foy and Laura Thompson - Paracyclists         1.0\n",
       "4049                                   Angy Eiter         1.0\n",
       "6013                               Hanley Ramirez         1.0\n",
       "11249                              Hugo Calderano         1.0\n",
       "10981                               Sandra Gerber         1.0\n",
       "133                                Real Estelí FC         1.0\n",
       "7187                         Capricorn Commanders         1.0"
      ]
     },
     "execution_count": 128,
     "metadata": {},
     "output_type": "execute_result"
    }
   ],
   "source": [
    "gt_data(g_completo).sort_values(\"constraint\", ascending = False).head(10)"
   ]
  },
  {
   "cell_type": "code",
   "execution_count": 129,
   "id": "9c8cf871",
   "metadata": {},
   "outputs": [
    {
     "data": {
      "text/html": [
       "<div>\n",
       "<style scoped>\n",
       "    .dataframe tbody tr th:only-of-type {\n",
       "        vertical-align: middle;\n",
       "    }\n",
       "\n",
       "    .dataframe tbody tr th {\n",
       "        vertical-align: top;\n",
       "    }\n",
       "\n",
       "    .dataframe thead th {\n",
       "        text-align: right;\n",
       "    }\n",
       "</style>\n",
       "<table border=\"1\" class=\"dataframe\">\n",
       "  <thead>\n",
       "    <tr style=\"text-align: right;\">\n",
       "      <th></th>\n",
       "      <th>nome</th>\n",
       "      <th>constraint</th>\n",
       "    </tr>\n",
       "    <tr>\n",
       "      <th>id</th>\n",
       "      <th></th>\n",
       "      <th></th>\n",
       "    </tr>\n",
       "  </thead>\n",
       "  <tbody>\n",
       "    <tr>\n",
       "      <th>3108</th>\n",
       "      <td>Cristiano Ronaldo</td>\n",
       "      <td>0.004356</td>\n",
       "    </tr>\n",
       "    <tr>\n",
       "      <th>11134</th>\n",
       "      <td>LeBron James</td>\n",
       "      <td>0.005508</td>\n",
       "    </tr>\n",
       "    <tr>\n",
       "      <th>6221</th>\n",
       "      <td>NBA</td>\n",
       "      <td>0.005713</td>\n",
       "    </tr>\n",
       "    <tr>\n",
       "      <th>8137</th>\n",
       "      <td>Leo Messi</td>\n",
       "      <td>0.005766</td>\n",
       "    </tr>\n",
       "    <tr>\n",
       "      <th>11976</th>\n",
       "      <td>NFL</td>\n",
       "      <td>0.006064</td>\n",
       "    </tr>\n",
       "    <tr>\n",
       "      <th>3334</th>\n",
       "      <td>UEFA Champions League</td>\n",
       "      <td>0.006716</td>\n",
       "    </tr>\n",
       "    <tr>\n",
       "      <th>12721</th>\n",
       "      <td>FIFA World Cup</td>\n",
       "      <td>0.007079</td>\n",
       "    </tr>\n",
       "    <tr>\n",
       "      <th>12449</th>\n",
       "      <td>Team USA</td>\n",
       "      <td>0.007250</td>\n",
       "    </tr>\n",
       "    <tr>\n",
       "      <th>4065</th>\n",
       "      <td>Kobe Bryant</td>\n",
       "      <td>0.007262</td>\n",
       "    </tr>\n",
       "    <tr>\n",
       "      <th>6929</th>\n",
       "      <td>Vernon Davis</td>\n",
       "      <td>0.007272</td>\n",
       "    </tr>\n",
       "  </tbody>\n",
       "</table>\n",
       "</div>"
      ],
      "text/plain": [
       "                        nome  constraint\n",
       "id                                      \n",
       "3108       Cristiano Ronaldo    0.004356\n",
       "11134           LeBron James    0.005508\n",
       "6221                     NBA    0.005713\n",
       "8137               Leo Messi    0.005766\n",
       "11976                    NFL    0.006064\n",
       "3334   UEFA Champions League    0.006716\n",
       "12721         FIFA World Cup    0.007079\n",
       "12449               Team USA    0.007250\n",
       "4065             Kobe Bryant    0.007262\n",
       "6929            Vernon Davis    0.007272"
      ]
     },
     "execution_count": 129,
     "metadata": {},
     "output_type": "execute_result"
    }
   ],
   "source": [
    "gt_data(g_completo).sort_values(\"constraint\", ascending = True).head(10)"
   ]
  },
  {
   "cell_type": "code",
   "execution_count": 132,
   "id": "0e9e5874",
   "metadata": {},
   "outputs": [],
   "source": [
    "#m = gt_draw.sfdp_layout(g_reduzido)\n",
    "#gt_move(g_reduzido, m)\n",
    "#gt_save(g_reduzido, 'constraint.net.gz')\n",
    "#r = netpixi.render('constraint.net.gz')"
   ]
  },
  {
   "cell_type": "code",
   "execution_count": 131,
   "id": "24fb127d",
   "metadata": {},
   "outputs": [
    {
     "data": {
      "text/html": [
       "\n",
       "        <div id=\"NkDKBe3NSTjyBFYpEkxzDA\"></div>\n",
       "        <script>netpixi.call('NkDKBe3NSTjyBFYpEkxzDA', 'EE8rYByDd47MzZ9KqAm7yw', 'setGraph', 'eyJ0eXBlIjogInZlcnRleCIsICJwcm9wcyI6IHsic3JjIjogIm5vbWUiLCAiZHN0IjogIl9rZXkifX0K');</script>\n",
       "    "
      ],
      "text/plain": [
       "<IPython.core.display.HTML object>"
      ]
     },
     "metadata": {},
     "output_type": "display_data"
    },
    {
     "data": {
      "text/html": [
       "\n",
       "        <div id=\"gheE96m74fur8cnNFxPuGp\"></div>\n",
       "        <script>netpixi.call('gheE96m74fur8cnNFxPuGp', 'EE8rYByDd47MzZ9KqAm7yw', 'normalizeGraph', 'eyJ0eXBlIjogInZlcnRleCIsICJwcm9wcyI6IHsic3JjIjogImNvbnN0cmFpbnQiLCAibWluIjogMC41LCAibWF4IjogMn19Cg==');</script>\n",
       "    "
      ],
      "text/plain": [
       "<IPython.core.display.HTML object>"
      ]
     },
     "metadata": {},
     "output_type": "display_data"
    }
   ],
   "source": [
    "r.vertex_set_key('nome')\n",
    "\n",
    "r.vertex_scale('constraint', 0.5, 2)"
   ]
  },
  {
   "cell_type": "markdown",
   "id": "04f01822",
   "metadata": {},
   "source": [
    "Em relação ao *constraint*, podemos dizer que indica a mesma coisa que o *effective size*, só que de maneira diferente. Ou seja, quanto maior a restrição, mais a página está sendo restringida por suas conexões. Nesse caso, podemos perceber que páginas de organizações e instituições esportivas bem como personalidades do esporte que são conhecidas mundialmente possuem *constraints* extremamente baixos, as páginas que possuem restrições altas são exatamente aquelas que possuem *effective size* baixo, isto é, aquelas que são páginas mais nichadas na categoria esportiva em que estão.\n",
    "\n",
    "Assim, as conclusões para o constraint são as mesmas obtidas ao calcular o *effective size*."
   ]
  },
  {
   "cell_type": "markdown",
   "id": "fc368a1d",
   "metadata": {},
   "source": [
    "Logo, temos que as lacunas estruturais indicam a relevância da página, sua fama e influência no âmbito dos esportes, de tal forma que quanto mais influentes essas páginas são, isto indica que mais globalmente conhecidas elas são superando os seus grupos locais que normalmente estão associados a categoria de esportes que fazem parte. E quanto menos relevantes e menos famosas elas são, mais nichadas são e mais restritas a sua categoria esportiva elas estão."
   ]
  },
  {
   "cell_type": "code",
   "execution_count": null,
   "id": "87670ebc",
   "metadata": {},
   "outputs": [],
   "source": []
  }
 ],
 "metadata": {
  "kernelspec": {
   "display_name": "Python 3 (ipykernel)",
   "language": "python",
   "name": "python3"
  },
  "language_info": {
   "codemirror_mode": {
    "name": "ipython",
    "version": 3
   },
   "file_extension": ".py",
   "mimetype": "text/x-python",
   "name": "python",
   "nbconvert_exporter": "python",
   "pygments_lexer": "ipython3",
   "version": "3.10.6"
  }
 },
 "nbformat": 4,
 "nbformat_minor": 5
}
