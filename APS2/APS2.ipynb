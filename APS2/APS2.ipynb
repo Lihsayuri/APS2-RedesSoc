{
 "cells": [
  {
   "cell_type": "markdown",
   "id": "93233e27",
   "metadata": {},
   "source": [
    "<h1> APS 2: Redes Sociais </h1>\n",
    "\n",
    "Professor: Marcelo Hashimoto\n",
    "\n",
    "Alunos: Henrique Martinelli Frezzatti, Lívia Sayuri Makuta e Rodrigo Coelho."
   ]
  },
  {
   "cell_type": "markdown",
   "id": "40c41f6e",
   "metadata": {},
   "source": [
    "<h2> Introdução </h2>\n",
    "\n",
    "Na presente atividade, a partir de um grafo que foi construído na APS anterior, iremos praticar o básico sobre cálculo de métricas locais de vértices e interpretar a rede e essas métricas. Assim, para lembrar, o dataset que foi escolhido pelo grupo: `soc-pages-sport`, foi retirado do tópico *social networks* do site: https://networkrepository.com/. Essa base de dados escolhida utiliza informações coletadas de páginas do *Facebook* do período de novembro de 2017 e busca mostrar as curtidas mútuas entre essas páginas. Além disso, essas páginas são verificadas e estão concentradas na categoria de esportes, embora os dados não incluam apenas essa categoria. \n",
    "\n",
    "Sendo assim, os vértices representam as páginas verificadas do *Facebook* que estão concentradas na categoria esportes, e as arestas são as curtidas mútuas entre elas. Agora, antes de prosseguir para o cálculo das métricas locais, vamos carregar o grafo \n",
    "que estará sob a ação de um algoritmo baseado na ideia de *force-directed graph drawing* que utiliza as arestas como uma força gravitacional que aproxima vértices conectados e afasta os desconectados. \n",
    "\n",
    "E, para melhorar a visualização, utilizaremos a ideia de componente, que é um conjunto máximo de vértices que permite que para quaisquer vértices do conjunto exista um caminho as conectando, isto é, podemos andar de qualquer vértice até outro. Assim, será extraída apenas a maior componente, e isso será feito através da função `gt_clean`.\n"
   ]
  },
  {
   "cell_type": "code",
   "execution_count": null,
   "id": "283f61e4",
   "metadata": {},
   "outputs": [],
   "source": [
    "import netpixi\n",
    "\n",
    "from netpixi.integration.gt import *\n",
    "from regression.integration.gt import *"
   ]
  },
  {
   "cell_type": "markdown",
   "id": "a14c1c14",
   "metadata": {},
   "source": [
    "Observação: para rodar a célula abaixo basta tirar os `#` do início das linhas. Deixamos esta célula comentada porque o notebook fica extremamente lento e de difícil manuseio depois de rodá-la, e isso se deve ao fato do grafo ter muitas vértices e arestas. Caso não queira rodar a célula, a visualização pode ser na imagem: `grafoCompletoSemZoom.png` e também com um pouco de zoom na imagem:  `grafoCompletoZoom.png`.\n",
    "\n",
    "\n"
   ]
  },
  {
   "cell_type": "code",
   "execution_count": null,
   "id": "9ee1ad5f",
   "metadata": {},
   "outputs": [],
   "source": [
    "g_completo = gt_load('./versao1.net.gz')\n",
    "g_completo = gt_clean(g_completo)\n",
    "m_completo = gt_draw.sfdp_layout(g_completo)\n",
    "gt_move(g_completo, m_completo)\n",
    "gt_save(g_completo, 'force-directed.net.gz')\n",
    "#r = netpixi.render('force-directed.net.gz', infinite=True);"
   ]
  },
  {
   "cell_type": "code",
   "execution_count": null,
   "id": "e3afb168",
   "metadata": {},
   "outputs": [],
   "source": [
    "# mudar a cor e o tamanho dos vértices\n",
    "#r.vertex_default(color=0xFF0000, size=0.7)\n",
    "\n",
    "# mudar a cor, a espessura e a curvatura das arestas\n",
    "#r.edge_default(color=0x20B2AA, width=0.08, curve1=1, curve2=1)\n",
    "\n",
    "#r.vertex_set_key('nome')"
   ]
  },
  {
   "cell_type": "markdown",
   "id": "0b4ec192",
   "metadata": {},
   "source": [
    "![title](./grafoCompletoSemZoom.png)\n",
    "Imagem do grafo completo com o algoritmo. \n",
    "![title](./grafoCompletoZoom.png)\n",
    "Imagem do grafo com o algoritmo e zoom."
   ]
  },
  {
   "cell_type": "markdown",
   "id": "40620001",
   "metadata": {},
   "source": [
    "As bolinhas (vértices, que nesse grafo acima estão bem pequenas) representam as páginas do *Facebook* e as linhas entre elas representam as arestas. Como pode ser visto, alguns grupos foram formados e isso está explícito em algumas regiões onde há maior concentração de arestas e também de vértices. Para entender melhor o que representam esses grupos, vamos utilizar uma versão reduzida do grafo que também foi montada na APS anterior e que conta com cerca de 2000 arestas e 1873 vértices. \n",
    "\n",
    "Além disso, na APS anterior foram enviados arquivos `.ipynb` que detalhavam melhor como a separação dessas dados foi feita, mas basicamente apenas percorremos o conjunto de arestas até atingir 2000 iterações e depois selecionamos os vértices correspondentes. Inclusive, essas arestas no documento original estavam organizadas de uma forma um pouco aleatória. Ademais, vale lembrar que a geração do grafo reduzido serve mais para melhorar a visualização e para possibilitar o manuseio do grafo, sendo que a análise será feita mesmo no conjunto completo de dados."
   ]
  },
  {
   "cell_type": "code",
   "execution_count": null,
   "id": "402df019",
   "metadata": {},
   "outputs": [],
   "source": [
    "g_reduzido = gt_load('./grafoMenorGrupos.net.gz')\n",
    "g_reduzido = gt_clean(g_reduzido)\n",
    "m_reduzido = gt_draw.sfdp_layout(g_reduzido)\n",
    "gt_move(g_reduzido, m_reduzido)\n",
    "gt_save(g_reduzido, 'force-directed-grafoMenor.net.gz')\n",
    "r = netpixi.render('force-directed-grafoMenor.net.gz');\n"
   ]
  },
  {
   "cell_type": "code",
   "execution_count": null,
   "id": "2b517171",
   "metadata": {},
   "outputs": [],
   "source": [
    "# mudar a cor e o tamanho dos vértices\n",
    "r.vertex_default(color=0xFF0000, size=1)\n",
    "\n",
    "# mudar a cor, a espessura e a curvatura das arestas\n",
    "r.edge_default(color=0x20B2AA, width=0.1, curve1=1, curve2=1)\n",
    "\n",
    "r.vertex_set_key('nome')"
   ]
  },
  {
   "cell_type": "markdown",
   "id": "ccd0fc9c",
   "metadata": {},
   "source": [
    "Agora sim podemos analisar melhor o que esses grupos representam e concluir que são páginas de esporte de categorias ou nichos similares que trocam curtidas entre si. Um exemplo é um grupo que é formado pelas páginas: *Minnesota Vikings*, *New England Patriots*, *Los Angeles Chargers*, *Brian Robison*, *Kyle Rudolph*, entre outros. Todos esses são times e jogadores da NFL que é a liga de futebol americano. \n",
    "\n",
    "Daqui para frente no decorrer da atividade, para plotar os grafos utilizaremos apenas o conjunto reduzido - para que seja possível manuseá-lo, e para  o cálculo das métricas  nas tabelas iremos utilizar a base de dados completa."
   ]
  },
  {
   "cell_type": "markdown",
   "id": "0b026aef",
   "metadata": {},
   "source": [
    "<h2> Cálculo das métricas</h2>\n",
    "\n",
    "<h3> [a] Cálculo da centralidade degree </h3>\n",
    "\n",
    "Como visto na APS anterior, cada vértice (ou nó) possui arestas que entram (*in-degree*) e arestas que saem (*out-degree*), e a soma do número de arestas que entram com o número das arestas que saem de um nó é chamado de *degree*. No caso de um grafo não-dirigido, o sentido dessa conexão não importa e podemos simplesmente chamar de *degree*, como é o caso que está sendo trabalhado, e isso porque as conexões entre as páginas do Facebook representam curtidas mútuas entre elas. \n",
    "\n",
    "E é por meio do *degree* que podemos calcular a métrica de centralidade *degree* que nada mais é do que o *degree*  de um vértice dividido pelo máximo *degree* possível. No nosso caso podemos pensar no seguinte exemplo: será que o *Minnesota Vikings* tem muitas curtidas mesmo? Qual é a relação entre as curtidas que ele tem com todas as curtidas possíveis que ele poderia ter? E isso pode nos ajudar a entender a importância da página no contexto que está inserida.\n",
    "\n"
   ]
  },
  {
   "cell_type": "markdown",
   "id": "19532365",
   "metadata": {},
   "source": [
    "Primeiro vamos carregar os grafos que serão utilizados:"
   ]
  },
  {
   "cell_type": "code",
   "execution_count": null,
   "id": "2ebc3461",
   "metadata": {},
   "outputs": [],
   "source": [
    "g_reduzido = gt_load('force-directed-grafoMenor.net.gz')\n",
    "g_completo = gt_load('force-directed.net.gz')"
   ]
  },
  {
   "cell_type": "markdown",
   "id": "a8dcc7b8",
   "metadata": {},
   "source": [
    "Agora vamos calcular a centralidade *degree*: "
   ]
  },
  {
   "cell_type": "code",
   "execution_count": null,
   "id": "801db933",
   "metadata": {},
   "outputs": [],
   "source": [
    "dc_reduzido = gt_total_degree(g_reduzido)\n",
    "dc_completo = gt_total_degree(g_completo)"
   ]
  },
  {
   "cell_type": "markdown",
   "id": "8c24e3f4",
   "metadata": {},
   "source": [
    "Nos primeiros tutoriais da biblioteca `graph-tool`, vimos que era possível adicionar propriedade aos vértices de um grafo através do método `add_vp`. E além de adicionar uma propriedade, também é possível adicionar um segundo parâmetro. Logo se passarmos a centralidade como segundo parâmetro, ela será uma propriedade dos vértices do grafo. Isso foi feito abaixo tanto para o grafo reduzido quanto para o vértice completo:\n"
   ]
  },
  {
   "cell_type": "code",
   "execution_count": null,
   "id": "553b6576",
   "metadata": {},
   "outputs": [],
   "source": [
    "g_reduzido.add_vp('degree', dc_reduzido)\n",
    "\n",
    "g_completo.add_vp('degree', dc_completo)\n"
   ]
  },
  {
   "cell_type": "markdown",
   "id": "6c498fc6",
   "metadata": {},
   "source": [
    "Abaixo podemos ver as propriedades dos vértices formatadas como um dataframe do pandas de maneira decrescente (veremos a tabela do grafo completo):"
   ]
  },
  {
   "cell_type": "code",
   "execution_count": null,
   "id": "08eb555e",
   "metadata": {},
   "outputs": [],
   "source": [
    "gt_data(g_completo).sort_values(\"degree\", ascending = False).head(10)"
   ]
  },
  {
   "cell_type": "markdown",
   "id": "9fa1de8f",
   "metadata": {},
   "source": [
    "Abaixo também podemos ver as propriedades dos vértices formatadas como um dataframe do pandas de maneira crescente (veremos a tabela do grafo completo):"
   ]
  },
  {
   "cell_type": "code",
   "execution_count": null,
   "id": "3ba41470",
   "metadata": {},
   "outputs": [],
   "source": [
    "gt_data(g_completo).sort_values(\"degree\", ascending = True).head(10)"
   ]
  },
  {
   "cell_type": "markdown",
   "id": "3728cf31",
   "metadata": {},
   "source": [
    "Por fim, podemos ver essa propriedade visualmente no grafo e através do método `vertex_scale` é possível utilizar a centralidade *degree* como tamanho."
   ]
  },
  {
   "cell_type": "code",
   "execution_count": null,
   "id": "177280f1",
   "metadata": {},
   "outputs": [],
   "source": [
    "m = gt_draw.sfdp_layout(g_reduzido)\n",
    "gt_move(g_reduzido, m)\n",
    "gt_save(g_reduzido, 'centralidadeDegree.net.gz')\n",
    "r = netpixi.render('centralidadeDegree.net.gz')"
   ]
  },
  {
   "cell_type": "code",
   "execution_count": null,
   "id": "55d82a97",
   "metadata": {},
   "outputs": [],
   "source": [
    "# mudar a cor e o tamanho dos vértices\n",
    "r.vertex_default(color=0xFF0000, size=1)\n",
    "\n",
    "# mudar a cor, a espessura e a curvatura das arestas\n",
    "r.edge_default(color=0x20B2AA, width=0.1, curve1=1, curve2=1)\n",
    "\n",
    "r.vertex_set_key('nome')\n",
    "r.vertex_scale('degree', 1, 20)"
   ]
  },
  {
   "cell_type": "markdown",
   "id": "a1570e0b",
   "metadata": {},
   "source": [
    "A centralidade *degree* no presente contexto poderia ser definida como a popularidade da página do *Facebook* que pode ser tanto uma pessoa quanto uma organização no nicho em que está inserida e até mesmo no mundo de esportes como um todo - como é o caso do Cristiano Ronaldo. Além disso, podemos analisar também que dado o fato das arestas serem curtidas mútuas, elementos com grande centralidade *degree* são membros ativos na comunidade que estão inseridos - no sentido de curtir outras páginas. \n",
    "\n",
    "Isso pode ser visto no grafo reduzido, quando temos Antoine Walker, que é um ex-jogador de basquete e podemos ver que suas conexões estão mais relacionadas a outros jogadores e páginas de time de basquete, assim, por essa métrica podemos dizer que ele seria uma pessoa popular na comunidade de basquete e que provavelmente também é membro ativo dessa comunidade na rede social curtindo outras páginas com interesses semelhantes.\n",
    "\n",
    "Por fim, em relação aos maiores vértices, eles parecem estar em posições interessantes. Isso porque a maior parte deles parece ser a posição central do *cluster* (agrupamento) em que estão inseridos e também na rede central - dependendo do quão maior é sua centralidade *degree*, como se fossem regiões de influência naquele nicho e/ou até mesmo na rede de esportes.\n"
   ]
  },
  {
   "cell_type": "markdown",
   "id": "8128b59f",
   "metadata": {},
   "source": [
    "<h3> [b] Cálculo da centralidade betweeness </h3>\n",
    "\n",
    "A centralidade betweeness, por sua vez, diz respeito a quantas vezes um vértice acaba sendo intermediário entre dois outros. Parece confuso, mas basta pensar que seria uma sequência de vértices e passos para sair de A e ir até B andando pelas arestas. Entretanto, é importante lembrar que não é qualquer deslocamento, nesse deslocamente não se pode passar pela mesma aresta mais de um vez e nem passar pelo mesmo vértice mais de uma vez. Além disso, esse deslocamento precisa ter o menor comprimento - isto é, o número de arestas pelas quais um caminho passa deve ser o menor possível.\n",
    "\n",
    "Basta pensar que para uma página de futebol curtir uma de esqui talvez tenham algumas outras páginas intermediárias que acabaram sendo uma \"ponte\" para que essa curtida mútua acontecesse. E é isso que o *betweeness* representa, adicionando as condições citadas anteriormente.\n",
    "\n"
   ]
  },
  {
   "cell_type": "markdown",
   "id": "a9a175a3",
   "metadata": {},
   "source": [
    "Primeiro vamos carregar os grafos que serão utilizados:"
   ]
  },
  {
   "cell_type": "code",
   "execution_count": null,
   "id": "bf60e5b7",
   "metadata": {},
   "outputs": [],
   "source": [
    "g_reduzido = gt_load('force-directed-grafoMenor.net.gz')\n",
    "\n",
    "g_completo = gt_load('force-directed.net.gz')"
   ]
  },
  {
   "cell_type": "markdown",
   "id": "3fafe070",
   "metadata": {},
   "source": [
    "Agora vamos calcular a centralidade *betweenness*:"
   ]
  },
  {
   "cell_type": "code",
   "execution_count": null,
   "id": "ebf2aa24",
   "metadata": {},
   "outputs": [],
   "source": [
    "from graph_tool import centrality\n",
    "\n",
    "bc_reduzido, _ = centrality.betweenness(g_reduzido)\n",
    "\n",
    "bc_completo, _ = centrality.betweenness(g_completo)"
   ]
  },
  {
   "cell_type": "markdown",
   "id": "44793c20",
   "metadata": {},
   "source": [
    "Depois podemos adicionar essa propriedade aos vértices do grafo através do método `add_vp`"
   ]
  },
  {
   "cell_type": "code",
   "execution_count": null,
   "id": "4bc34286",
   "metadata": {},
   "outputs": [],
   "source": [
    "g_reduzido.add_vp('betweenness', bc_reduzido)\n",
    "\n",
    "g_completo.add_vp('betweenness', bc_completo)\n"
   ]
  },
  {
   "cell_type": "markdown",
   "id": "17e4a0c1",
   "metadata": {},
   "source": [
    "Abaixo podemos ver as propriedades dos vértices formatadas como um dataframe do pandas de maneira decrescente (veremos a tabela do grafo completo):"
   ]
  },
  {
   "cell_type": "code",
   "execution_count": null,
   "id": "95385386",
   "metadata": {},
   "outputs": [],
   "source": [
    "gt_data(g_completo).sort_values(\"betweenness\", ascending = False).head(10)"
   ]
  },
  {
   "cell_type": "markdown",
   "id": "31ab5094",
   "metadata": {},
   "source": [
    "Abaixo também podemos ver as propriedades dos vértices formatadas como um dataframe do pandas de maneira crescente (veremos a tabela do grafo completo):"
   ]
  },
  {
   "cell_type": "code",
   "execution_count": null,
   "id": "db565a13",
   "metadata": {},
   "outputs": [],
   "source": [
    "gt_data(g_completo).sort_values(\"betweenness\", ascending = True).head(10)"
   ]
  },
  {
   "cell_type": "markdown",
   "id": "18326aba",
   "metadata": {},
   "source": [
    "Por fim, podemos ver essa propriedade visualmente no grafo e através do método `vertex_scale` é possível utilizar a centralidade *betweenness* como tamanho."
   ]
  },
  {
   "cell_type": "code",
   "execution_count": null,
   "id": "f370229e",
   "metadata": {},
   "outputs": [],
   "source": [
    "m = gt_draw.sfdp_layout(g_reduzido)\n",
    "gt_move(g_reduzido, m)\n",
    "gt_save(g_reduzido, 'centralidadeBetweenness.net.gz')\n",
    "r = netpixi.render('centralidadeBetweenness.net.gz')"
   ]
  },
  {
   "cell_type": "code",
   "execution_count": null,
   "id": "c3b13c40",
   "metadata": {},
   "outputs": [],
   "source": [
    "# mudar a cor e o tamanho dos vértices\n",
    "r.vertex_default(color=0xFF0000, size=1)\n",
    "\n",
    "# mudar a cor, a espessura e a curvatura das arestas\n",
    "r.edge_default(color=0x20B2AA, width=0.1, curve1=1, curve2=1)\n",
    "\n",
    "r.vertex_set_key('nome')\n",
    "r.vertex_scale('betweenness', 1, 20)"
   ]
  },
  {
   "cell_type": "markdown",
   "id": "712a604a",
   "metadata": {},
   "source": [
    "Formalizando, em relação ao significado da centralidade *betweenness*, tem-se que essa é uma página em comum que conecta diferentes comunidades, e isso pode acontecer devido a informações compartilhadas, como lugares em comum, estar no mesmo grupo do *Facebook*, ser marcado em uma publicação naquela página, entre outros. E essa informação pode ser até mesmo utilizada na ferramenta do *Facebook* \"Páginas que você talvez curta\"/\"Páginas que outras pessoas também curtiram\".\n",
    "\n",
    "Por exemplo, olhando o grafo anterior, Charlotte Hornets tem um *betweenness* alto, e isso porque essa página compartilha curtidas mútuas com duas páginas muito populares: NASCAR e Antoine Walker, assim, essa página acaba por conectar essas duas páginas de grupos distintos em um caminho mais curto. Pensando na ferramenta do *Facebook*, ela não seria necessariamente recomendada para o usuário curtir, mas ela seria uma intermediária que conecta diferentes comunidades e que possivelmente pode ser usada por algoritmos do *Facebook* para traçar caminhos e sugerir que alguém que curtiu NASCAR possa querer curtir Antoine Walker. Inclusive essa relação entre NASCAR e Antoine Walker com Hornets pode ter acontecido pelo fato de que um dos circuitos mais importantes de NASCAR seja na cidade de Charlotte, que também é a cidade do time de basquete Charlotte Hornets.\n",
    "\n",
    "Logo, quanto mais uma página conecta comunidades de esporte no *Facebook* maior é seu *betweenness* e quanto mais parte de um grupo ela é, sem se conectar com outros, menor é seu *betweenness*. \n",
    "\n",
    "Agora em relação à posição que esses vértices maiores estão, podemos dizer que são posições extremamente interessantes. Isso porque, reiterando, essas páginas são as responsáveis por conectar páginas de grupos e interesses distintos. Como citado no exemplo anterior, temos Charlotte Hornets conectando NASCAR (associação automobilística) com Antoine Walker (ex-jogador de basquete).\n",
    "\n"
   ]
  },
  {
   "cell_type": "markdown",
   "id": "b59b7d07",
   "metadata": {},
   "source": [
    "<h3> [c] Cálculo da centralidade closeness </h3>\n",
    "\n",
    "O closeness por sua vez é o inverso da soma de distâncias de um vértice aos outros, ou seja, tenta medir o quão próximo um vértice está do outro levando em consideração o menor comprimento possível de um caminho de um ponto até outro. Assim, quanto mais central um nó é, mais próximo será de todos os outros nós. No contexto do *Facebook*, podemos pensar que se o *closeness* de uma página for alto, é porque ela é bem próxima de muitas outras, ou seja o número de conexões ou passos para sair dela e ir para outra é baixo - indicando proximidade."
   ]
  },
  {
   "cell_type": "markdown",
   "id": "43da240d",
   "metadata": {},
   "source": [
    "Primeiro vamos carregar os grafos que serão utilizados:"
   ]
  },
  {
   "cell_type": "code",
   "execution_count": null,
   "id": "883efb6e",
   "metadata": {},
   "outputs": [],
   "source": [
    "g_reduzido = gt_load('force-directed-grafoMenor.net.gz')\n",
    "\n",
    "g_completo = gt_load('force-directed.net.gz')"
   ]
  },
  {
   "cell_type": "markdown",
   "id": "12878704",
   "metadata": {},
   "source": [
    "Agora vamos calcular a centralidade *closeness*:"
   ]
  },
  {
   "cell_type": "code",
   "execution_count": null,
   "id": "77a5b480",
   "metadata": {},
   "outputs": [],
   "source": [
    "from graph_tool import centrality\n",
    "\n",
    "cc_reduzido = centrality.closeness(g_reduzido)\n",
    "\n",
    "cc_completo = centrality.closeness(g_completo)"
   ]
  },
  {
   "cell_type": "markdown",
   "id": "f4d2b498",
   "metadata": {},
   "source": [
    "Depois podemos adicionar essa propriedade aos vértices do grafo através do método `add_vp`:"
   ]
  },
  {
   "cell_type": "code",
   "execution_count": null,
   "id": "9287be8c",
   "metadata": {},
   "outputs": [],
   "source": [
    "g_reduzido.add_vp('closeness', cc_reduzido)\n",
    "\n",
    "g_completo.add_vp('closeness', cc_completo)"
   ]
  },
  {
   "cell_type": "markdown",
   "id": "433773d8",
   "metadata": {},
   "source": [
    "Abaixo podemos ver as propriedades dos vértices formatadas como um dataframe do pandas de maneira decrescente (veremos a tabela do grafo completo):"
   ]
  },
  {
   "cell_type": "code",
   "execution_count": null,
   "id": "7e1e0e75",
   "metadata": {},
   "outputs": [],
   "source": [
    "gt_data(g_completo).sort_values(\"closeness\", ascending = False).head(10)"
   ]
  },
  {
   "cell_type": "markdown",
   "id": "585ab96c",
   "metadata": {},
   "source": [
    "Abaixo também podemos ver as propriedades dos vértices formatadas como um dataframe do pandas de maneira crescente (veremos a tabela do grafo completo):\n"
   ]
  },
  {
   "cell_type": "code",
   "execution_count": null,
   "id": "084df556",
   "metadata": {},
   "outputs": [],
   "source": [
    "gt_data(g_completo).sort_values(\"closeness\", ascending = True).head(10)"
   ]
  },
  {
   "cell_type": "markdown",
   "id": "dbd6a62c",
   "metadata": {},
   "source": [
    "Por fim, podemos ver essa propriedade visualmente no grafo e através do método `vertex_scale` é possível utilizar a centralidade *closeness* como tamanho."
   ]
  },
  {
   "cell_type": "code",
   "execution_count": null,
   "id": "81f1ff6d",
   "metadata": {},
   "outputs": [],
   "source": [
    "m = gt_draw.sfdp_layout(g_reduzido)\n",
    "gt_move(g_reduzido, m)\n",
    "gt_save(g_reduzido, 'centralidadeCloseness.net.gz')\n",
    "r = netpixi.render('centralidadeCloseness.net.gz')"
   ]
  },
  {
   "cell_type": "code",
   "execution_count": null,
   "id": "5878a912",
   "metadata": {},
   "outputs": [],
   "source": [
    "# mudar a cor e o tamanho dos vértices\n",
    "r.vertex_default(color=0xFF0000, size=1)\n",
    "\n",
    "# mudar a cor, a espessura e a curvatura das arestas\n",
    "r.edge_default(color=0x20B2AA, width=0.1, curve1=1, curve2=1)\n",
    "\n",
    "r.vertex_set_key('nome')\n",
    "r.vertex_scale('closeness', 0.5, 3)"
   ]
  },
  {
   "cell_type": "markdown",
   "id": "cca52d21",
   "metadata": {},
   "source": [
    "Em relação ao *closeness* não conseguimos enxergar uma interpretação conceitual plausível, isso porque todos os vértices possuem *closeness* parecidos e de maneira geral estão próximos entre si em seus grupos e também fora deles, isto é, nessa rede de páginas no *Facebook* não há muito como as páginas de esporte terem distâncias muito grandes entre si, pois embora existam diferentes categorias de esporte, muitas delas estão conectadas de alguma forma por alguma similaridade, então não há um conceito que defina bem essa métrica e que faça sentido para comparações. \n",
    "\n",
    "Apenas algumas páginas tem um *closeness* um pouco maior do que as outras mas é porque de maneira geral são centrais na rede toda, ou seja, são páginas que provavelmente são as mais famosas no mundo dos esportes e até fora dele também, dessa forma, acabam tendo maior proximidade com as outras vértices por conta da sua posição central, que é interessante.\n"
   ]
  },
  {
   "cell_type": "markdown",
   "id": "19d888e1",
   "metadata": {},
   "source": [
    "<h3>[d] Clustering coefficient</h3>\n",
    "\n",
    "Agora saindo um pouco das métricas de centralidade, também é interessante analisar o quão agrupado as redes estão, ou seja, o quanto um vértice parece fazer parte de um grupo. Na análise visual fizemos isso com um algoritmo baseado na ideia de *force-directed graph*, mas saindo desse campo podemos verificar isso também através de uma métrica.\n",
    "\n",
    "Assim, o *clustering coefficient* vai analisar o quanto uma página de *Facebook* compartilha de curtidas mútuas com todas as páginas mais próximas de si (do seu \"grupinho\"). Isso vai ser interessante para descobrir o quão conectadas essas páginas de interesses parecidos estão."
   ]
  },
  {
   "cell_type": "markdown",
   "id": "39fa4dd2",
   "metadata": {},
   "source": [
    "Primeiro vamos carregar os grafos que serão utilizados:"
   ]
  },
  {
   "cell_type": "code",
   "execution_count": null,
   "id": "e6feff0b",
   "metadata": {},
   "outputs": [],
   "source": [
    "g_reduzido = gt_load('force-directed-grafoMenor.net.gz')\n",
    "\n",
    "g_completo = gt_load('force-directed.net.gz')"
   ]
  },
  {
   "cell_type": "markdown",
   "id": "22d1e389",
   "metadata": {},
   "source": [
    "Agora vamos calcular o *clustering coefficient*:"
   ]
  },
  {
   "cell_type": "code",
   "execution_count": null,
   "id": "3116b766",
   "metadata": {},
   "outputs": [],
   "source": [
    "from graph_tool import clustering\n",
    "\n",
    "lc_reduzido = clustering.local_clustering(g_reduzido)\n",
    "\n",
    "lc_completo = clustering.local_clustering(g_completo)"
   ]
  },
  {
   "cell_type": "markdown",
   "id": "a25a1731",
   "metadata": {},
   "source": [
    "Depois podemos adicionar essa propriedade aos vértices do grafo através do método `add_vp`:"
   ]
  },
  {
   "cell_type": "code",
   "execution_count": null,
   "id": "bcf71695",
   "metadata": {},
   "outputs": [],
   "source": [
    "g_reduzido.add_vp('clustering', lc_reduzido)\n",
    "\n",
    "g_completo.add_vp('clustering', lc_completo)"
   ]
  },
  {
   "cell_type": "markdown",
   "id": "d7339de1",
   "metadata": {},
   "source": [
    "Abaixo podemos ver as propriedades dos vértices formatadas como um dataframe do pandas de maneira decrescente (veremos a tabela do grafo completo):"
   ]
  },
  {
   "cell_type": "code",
   "execution_count": null,
   "id": "fde1e5a2",
   "metadata": {},
   "outputs": [],
   "source": [
    "gt_data(g_completo).sort_values(\"clustering\", ascending = False).head(10)"
   ]
  },
  {
   "cell_type": "markdown",
   "id": "f9dbdfd3",
   "metadata": {},
   "source": [
    "Abaixo também podemos ver as propriedades dos vértices formatadas como um dataframe do pandas de maneira crescente (veremos a tabela do grafo completo):"
   ]
  },
  {
   "cell_type": "code",
   "execution_count": null,
   "id": "2d04657d",
   "metadata": {},
   "outputs": [],
   "source": [
    "gt_data(g_completo).sort_values(\"clustering\", ascending = True).head(10)"
   ]
  },
  {
   "cell_type": "markdown",
   "id": "f1703519",
   "metadata": {},
   "source": [
    "Por fim, podemos ver essa propriedade visualmente no grafo e através do método `vertex_scale` é possível utilizar a métrica\n",
    "*clustering* como tamanho."
   ]
  },
  {
   "cell_type": "code",
   "execution_count": null,
   "id": "5ea0b084",
   "metadata": {},
   "outputs": [],
   "source": [
    "m = gt_draw.sfdp_layout(g_reduzido)\n",
    "gt_move(g_reduzido, m)\n",
    "gt_save(g_reduzido, 'clustering.net.gz')\n",
    "r = netpixi.render('clustering.net.gz')"
   ]
  },
  {
   "cell_type": "code",
   "execution_count": null,
   "id": "4ad1d04a",
   "metadata": {},
   "outputs": [],
   "source": [
    "# mudar a cor e o tamanho dos vértices\n",
    "r.vertex_default(color=0xFF0000, size=1)\n",
    "\n",
    "# mudar a cor, a espessura e a curvatura das arestas\n",
    "r.edge_default(color=0x20B2AA, width=0.1, curve1=1, curve2=1)\n",
    "\n",
    "r.vertex_set_key('nome')\n",
    "\n",
    "r.vertex_scale('clustering', 1, 10)"
   ]
  },
  {
   "cell_type": "markdown",
   "id": "a09a86ab",
   "metadata": {},
   "source": [
    "No grafo que utiliza arestas e vértices reduzidas são poucos os casos que o *clustering* é maior do que 0, indicando que os membros daquele grupo estão interligados. Mas se rodarmos esse cálculo do coeficiente para a base de dados inteira, percebemos que muitos grupos estão interligados, e esses grupos que são interligados possuem interesses em esportes parecidos. Por exemplo, temos um *cluster* com Mario Götze, Xabi Alonso, Franck Ribéry, entre outros jogadores que mutuamente se curtem pois jogavam todos no mesmo time: o Bayern de Munique.\n",
    "\n",
    "Assim, o conceito de *clustering* pode significar pessoas que fazem parte de um mesmo grupo, seja de um mesmo time, ou que jogaram ou gostam de um mesmo esporte. Além disso, a posição que eles se encontram é interessante, isso por estarem representando um grupo de interesses em comum ou até mesmo um time, como no caso do grupo formado pelos jogadores do Bayern. E no geral sua posição tende a ser concentrada, o que de fato indica a formação de \"panelinhas\", como também foi visto na APS anterior na análise visual. "
   ]
  },
  {
   "cell_type": "markdown",
   "id": "3a077dbb",
   "metadata": {},
   "source": [
    "<h3>[e] Lacunas estruturais </h3>\n",
    "\n",
    "Por fim as lacunas estruturais estão associadas a uma teoria que vê uma aresta como um possível investimento, ou seja, se tenho conexão com algum vértice, quero que essa conexão me traga recursos diferentes do que já tenho, para evitar a redundância. Assim, basta pensar que no contexto do *Facebook*, se já curti a página de um jogador de futebol de um determinado time, não vou curtir a página de um outro jogador desse mesmo time. \n",
    "\n",
    "E para verificar esse conceito na rede, existem dois conceitos que podem ser usados: o tamanho efetivo (*effective size* em inglês) e a restrição (*constraint* em inglês). O primeiro leva em consideração a quantidade de conexões que entram e saem de um vértice e vai descontando à medida que ele apresenta redundâncias, ou seja, calcula o que de fato é efetivo na rede - aquilo que é conexão e que não é redundante. Já o segundo tenta equilibrar os investimentos e as redundâncias, sendo que quanto maior seu valor, mais restritos são os recursos que um vértice consegue obter na rede e mais redundante são suas conexões. \n",
    "\n"
   ]
  },
  {
   "cell_type": "markdown",
   "id": "eca0ebea",
   "metadata": {},
   "source": [
    "Primeiro vamos carregar os grafos que serão utilizados:"
   ]
  },
  {
   "cell_type": "code",
   "execution_count": null,
   "id": "c627f69a",
   "metadata": {},
   "outputs": [],
   "source": [
    "g_reduzido = gt_load('force-directed-grafoMenor.net.gz')\n",
    "\n",
    "g_completo = gt_load('force-directed.net.gz')"
   ]
  },
  {
   "cell_type": "markdown",
   "id": "b9d07113",
   "metadata": {},
   "source": [
    "Agora vamos calcular o *effective size*:"
   ]
  },
  {
   "cell_type": "code",
   "execution_count": null,
   "id": "d91be4fd",
   "metadata": {},
   "outputs": [],
   "source": [
    "es_reduzido = gt_effective_size(g_reduzido)\n",
    "\n",
    "es_completo = gt_effective_size(g_completo)"
   ]
  },
  {
   "cell_type": "markdown",
   "id": "3566668f",
   "metadata": {},
   "source": [
    "Depois podemos adicionar essa propriedade aos vértices do grafo através do método `add_vp`:"
   ]
  },
  {
   "cell_type": "code",
   "execution_count": null,
   "id": "ba35ebd7",
   "metadata": {},
   "outputs": [],
   "source": [
    "g_reduzido.add_vp('effsize', es_reduzido)\n",
    "\n",
    "g_completo.add_vp('effsize', es_completo)"
   ]
  },
  {
   "cell_type": "markdown",
   "id": "7cd8e050",
   "metadata": {},
   "source": [
    "Abaixo podemos ver as propriedades dos vértices formatadas como um dataframe do pandas de maneira decrescente (veremos a tabela do grafo completo):"
   ]
  },
  {
   "cell_type": "code",
   "execution_count": null,
   "id": "49874d89",
   "metadata": {},
   "outputs": [],
   "source": [
    "gt_data(g_completo).sort_values(\"effsize\", ascending = False).head(10)"
   ]
  },
  {
   "cell_type": "markdown",
   "id": "bf37a4f2",
   "metadata": {},
   "source": [
    "Abaixo podemos ver as propriedades dos vértices formatadas como um dataframe do pandas de maneira crescente (veremos a tabela do grafo completo):"
   ]
  },
  {
   "cell_type": "code",
   "execution_count": null,
   "id": "0b28ce93",
   "metadata": {},
   "outputs": [],
   "source": [
    "gt_data(g_completo).sort_values(\"effsize\", ascending = True).head(10)"
   ]
  },
  {
   "cell_type": "markdown",
   "id": "7e7070c8",
   "metadata": {},
   "source": [
    "Por fim, podemos ver essa propriedade visualmente no grafo e através do método `vertex_scale` é possível utilizar a métrica *effective size* como tamanho."
   ]
  },
  {
   "cell_type": "code",
   "execution_count": null,
   "id": "c5353cd4",
   "metadata": {},
   "outputs": [],
   "source": [
    "m = gt_draw.sfdp_layout(g_reduzido)\n",
    "gt_move(g_reduzido, m)\n",
    "gt_save(g_reduzido, 'effsize.net.gz')\n",
    "r = netpixi.render('effsize.net.gz')"
   ]
  },
  {
   "cell_type": "code",
   "execution_count": null,
   "id": "3be3386b",
   "metadata": {},
   "outputs": [],
   "source": [
    "# mudar a cor e o tamanho dos vértices\n",
    "r.vertex_default(color=0xFF0000, size=1)\n",
    "\n",
    "# mudar a cor, a espessura e a curvatura das arestas\n",
    "r.edge_default(color=0x20B2AA, width=0.1, curve1=1, curve2=1)\n",
    "\n",
    "r.vertex_set_key('nome')\n",
    "\n",
    "r.vertex_scale('effsize', 1, 20)"
   ]
  },
  {
   "cell_type": "markdown",
   "id": "70303e7a",
   "metadata": {},
   "source": [
    "Em relação ao *effective size*, pode-se levar em conta justamente o que é dito no próprio nome da métrica, uma vez que, ao analisarmos a base de dados completa (por meio da tabela com os maiores e menores `effective size`), é possível analisar que páginas do *Facebook* com *effective size* altos representam instituições, organizações ou personalidades muito influentes, não apenas no meio em que atuam, mas em uma escala muito maior e, muitas vezes, em escala global. Por exemplo, o Lebron James ou Cristiano Ronaldo não são populares apenas em suas áreas, como basquete e futebol, respectivamente, mas também em diversas outras, levando a pessoas curtirem suas páginas no *Facebook* mesmo que não acompanhem o esporte ou a pessoa em si, curtindo meramente pela fama ou importância social. \n",
    "\n",
    "Além disso, podemos concluir que vértices com *effective size* baixos embora sejam personalidades famosas, acabam sendo muito mais nichadas do que as outras. Dessa forma, a possibilidade das pessoas que curtem essas páginas se conhecerem é muito maior do que quando o *effective size* é alto.  \n",
    "\n",
    "Assim, o conceito de *effective size* pode ser a fama e a influência das páginas em si, de modo que quanto maior o *effective size*, mais influentes e conhecidas são e que quanto menor, mais nichadas são.\n",
    "\n",
    "Em relação a posição em que se encontram, temos que as maiores vértices são centrais na base de dados completa e também no meio mais geral que se encontram: por exemplo, Cristiano Ronaldo é central na base de dados e também no seu meio que é o futebolístico.\n"
   ]
  },
  {
   "cell_type": "markdown",
   "id": "d9059351",
   "metadata": {},
   "source": [
    "Agora vamos repetir tudo que foi feito anteriormento, só que para o *constraint*:"
   ]
  },
  {
   "cell_type": "code",
   "execution_count": null,
   "id": "ee31ec3a",
   "metadata": {},
   "outputs": [],
   "source": [
    "g_reduzido = gt_load('force-directed-grafoMenor.net.gz')\n",
    "\n",
    "g_completo = gt_load('force-directed.net.gz')"
   ]
  },
  {
   "cell_type": "code",
   "execution_count": null,
   "id": "a10df910",
   "metadata": {},
   "outputs": [],
   "source": [
    "ct_reduzido = gt_constraint(g_reduzido)\n",
    "\n",
    "ct_completo = gt_constraint(g_completo)"
   ]
  },
  {
   "cell_type": "code",
   "execution_count": null,
   "id": "c0f31d9b",
   "metadata": {},
   "outputs": [],
   "source": [
    "g_reduzido.add_vp('constraint', ct_reduzido)\n",
    "\n",
    "g_completo.add_vp('constraint', ct_completo)"
   ]
  },
  {
   "cell_type": "code",
   "execution_count": null,
   "id": "f8afa988",
   "metadata": {},
   "outputs": [],
   "source": [
    "gt_data(g_completo).sort_values(\"constraint\", ascending = False).head(10)"
   ]
  },
  {
   "cell_type": "code",
   "execution_count": null,
   "id": "9c8cf871",
   "metadata": {},
   "outputs": [],
   "source": [
    "gt_data(g_completo).sort_values(\"constraint\", ascending = True).head(10)"
   ]
  },
  {
   "cell_type": "markdown",
   "id": "7641e88a",
   "metadata": {},
   "source": [
    "Por fim, podemos ver essa propriedade visualmente no grafo e através do método `vertex_scale` é possível utilizar a métrica *constraint* como tamanho."
   ]
  },
  {
   "cell_type": "code",
   "execution_count": null,
   "id": "0e9e5874",
   "metadata": {},
   "outputs": [],
   "source": [
    "m = gt_draw.sfdp_layout(g_reduzido)\n",
    "gt_move(g_reduzido, m)\n",
    "gt_save(g_reduzido, 'constraint.net.gz')\n",
    "r = netpixi.render('constraint.net.gz')"
   ]
  },
  {
   "cell_type": "code",
   "execution_count": null,
   "id": "24fb127d",
   "metadata": {},
   "outputs": [],
   "source": [
    "# mudar a cor e o tamanho dos vértices\n",
    "r.vertex_default(color=0xFF0000, size=1)\n",
    "\n",
    "# mudar a cor, a espessura e a curvatura das arestas\n",
    "r.edge_default(color=0x20B2AA, width=0.1, curve1=1, curve2=1)\n",
    "\n",
    "r.vertex_set_key('nome')\n",
    "\n",
    "r.vertex_scale('constraint', 0.5, 2)"
   ]
  },
  {
   "cell_type": "markdown",
   "id": "04f01822",
   "metadata": {},
   "source": [
    "Em relação ao *constraint*, podemos dizer que indica a mesma coisa que o *effective size*, só que de maneira diferente. Ou seja, quanto maior a restrição, mais a página está sendo restringida por suas conexões. Nesse caso, podemos perceber que páginas de organizações e instituições esportivas bem como personalidades do esporte que são conhecidas mundialmente possuem *constraints* extremamente baixos, por sua vez, as páginas que possuem restrições altas são aquelas mais nichadas na categoria esportiva em que estão. Ou seja, as páginas com *constraint* baixo são aquelas que apresentaram *effective size* alto, e as páginas com *constraint* alto são aquelas que apresentaram *effective size* baixo.\n",
    "\n",
    "Assim, as conclusões para o constraint são as mesmas obtidas ao calcular o *effective size*."
   ]
  },
  {
   "cell_type": "markdown",
   "id": "fc368a1d",
   "metadata": {},
   "source": [
    "Logo, temos que as lacunas estruturais indicam a relevância da página, sua fama e influência no âmbito dos esportes, de tal forma que quanto mais influentes essas páginas são, isto indica que mais globalmente conhecidas elas são, superando os seus grupos locais que normalmente estão associados a categoria de esportes que fazem parte. E quanto menos relevantes e menos famosas elas são, mais nichadas são e mais restritas a sua categoria esportiva elas estão."
   ]
  },
  {
   "cell_type": "markdown",
   "id": "bb832171",
   "metadata": {},
   "source": [
    "EOF"
   ]
  }
 ],
 "metadata": {
  "kernelspec": {
   "display_name": "Python 3 (ipykernel)",
   "language": "python",
   "name": "python3"
  },
  "language_info": {
   "codemirror_mode": {
    "name": "ipython",
    "version": 3
   },
   "file_extension": ".py",
   "mimetype": "text/x-python",
   "name": "python",
   "nbconvert_exporter": "python",
   "pygments_lexer": "ipython3",
   "version": "3.10.6"
  }
 },
 "nbformat": 4,
 "nbformat_minor": 5
}
